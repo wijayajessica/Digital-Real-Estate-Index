{
 "cells": [
  {
   "cell_type": "markdown",
   "metadata": {},
   "source": [
    "### Market Level Forecasting"
   ]
  },
  {
   "cell_type": "code",
   "execution_count": 2,
   "metadata": {
    "scrolled": true
   },
   "outputs": [],
   "source": [
    "import numpy as np\n",
    "import pandas as pd\n",
    "import matplotlib.pyplot as plt\n",
    "import preprocessing\n",
    "from preprocessing import preprocessingMLS, featureEngineering\n",
    "from getGoogleTrends import getGoogleTrendsData\n",
    "import models\n",
    "from imp import reload\n",
    "import matplotlib.ticker as ticker"
   ]
  },
  {
   "cell_type": "markdown",
   "metadata": {},
   "source": [
    "### Step 1: Read and preprocess data\n",
    "House market data, Google Trends, and Economic indicators"
   ]
  },
  {
   "cell_type": "code",
   "execution_count": 3,
   "metadata": {},
   "outputs": [],
   "source": [
    "data_dir = 'index-team-data/denver/'"
   ]
  },
  {
   "cell_type": "code",
   "execution_count": 4,
   "metadata": {},
   "outputs": [],
   "source": [
    "#read in market data\n",
    "process1 = preprocessingMLS(data_dir+'listing_dates_with_ct.csv')\n",
    "monthData = process1.get_monthly_data(columns=['count_sale','count_list','sale_price'],start_date='2016-03', end_date='2020-09')\n",
    "\n",
    "\n",
    "#get google trends data from API/read in data\n",
    "#----------------------------------------------------\n",
    "#gt = getGoogleTrendsData(geo='US-GA',city='Atlanta')\n",
    "#trend = gt.getData(times=10,date='2016-03-01 2020-09-30',scaled=True)\n",
    "#trend.to_csv('google_trends_atlanta_scaled.csv')\n",
    "#----------------------------------------------------\n",
    "trend = pd.read_csv(data_dir+'google_trends/google_trends_scaled.csv')\n",
    "\n",
    "\n",
    "#read in economics indicator features, if needed\n",
    "#econ = pd.read_csv('econ_data.csv')\n",
    "\n",
    "merged = pd.merge(monthData, trend).drop(['Unnamed: 0'],axis=1)"
   ]
  },
  {
   "cell_type": "code",
   "execution_count": 5,
   "metadata": {},
   "outputs": [
    {
     "name": "stdout",
     "output_type": "stream",
     "text": [
      "136\n"
     ]
    }
   ],
   "source": [
    "#create lag features, pct change features and one hot month features with featureEngineering\n",
    "feature_column_names = merged.columns.delete(0)\n",
    "fe = preprocessing.featureEngineering(merged,feature_column_names)\n",
    "fe.create_lag_features(lag_num_list=[1,3])\n",
    "fe.create_pct_change_features(lag_num_list=[1])\n",
    "fe.create_month_one_hot()\n",
    "df = fe.get_dataFrame()\n",
    "feature_column_names = fe.get_feature_names()\n",
    "print(len(feature_column_names))"
   ]
  },
  {
   "cell_type": "markdown",
   "metadata": {},
   "source": [
    "### Step 2: Make predictions"
   ]
  },
  {
   "cell_type": "markdown",
   "metadata": {},
   "source": [
    "### 2.1 predict 3 months ahead -- google trends"
   ]
  },
  {
   "cell_type": "code",
   "execution_count": 6,
   "metadata": {
    "scrolled": true
   },
   "outputs": [
    {
     "name": "stdout",
     "output_type": "stream",
     "text": [
      "<models.linearModel object at 0x7f8fa98a46d0>\n",
      "<models.linearModel object at 0x7f8f9e48f2d0>\n",
      "<models.linearModel object at 0x7f8f9e48f290>\n",
      "prediction_horizon 1\n"
     ]
    },
    {
     "name": "stderr",
     "output_type": "stream",
     "text": [
      "/Applications/anaconda3/lib/python3.7/site-packages/sklearn/linear_model/_coordinate_descent.py:476: ConvergenceWarning: Objective did not converge. You might want to increase the number of iterations. Duality gap: 4722.644282732159, tolerance: 3175.6425902439023\n",
      "  positive)\n",
      "/Applications/anaconda3/lib/python3.7/site-packages/sklearn/linear_model/_coordinate_descent.py:476: ConvergenceWarning: Objective did not converge. You might want to increase the number of iterations. Duality gap: 5201.238530062139, tolerance: 3175.6425902439023\n",
      "  positive)\n",
      "/Applications/anaconda3/lib/python3.7/site-packages/sklearn/linear_model/_coordinate_descent.py:476: ConvergenceWarning: Objective did not converge. You might want to increase the number of iterations. Duality gap: 3545.609328328108, tolerance: 3175.6425902439023\n",
      "  positive)\n",
      "/Applications/anaconda3/lib/python3.7/site-packages/sklearn/linear_model/_coordinate_descent.py:476: ConvergenceWarning: Objective did not converge. You might want to increase the number of iterations. Duality gap: 3045.071025176032, tolerance: 2767.7271951219514\n",
      "  positive)\n",
      "/Applications/anaconda3/lib/python3.7/site-packages/sklearn/linear_model/_coordinate_descent.py:476: ConvergenceWarning: Objective did not converge. You might want to increase the number of iterations. Duality gap: 7146.419270015189, tolerance: 3869.061635294118\n",
      "  positive)\n",
      "/Applications/anaconda3/lib/python3.7/site-packages/sklearn/linear_model/_coordinate_descent.py:476: ConvergenceWarning: Objective did not converge. You might want to increase the number of iterations. Duality gap: 5062.256087072426, tolerance: 3120.324497560976\n",
      "  positive)\n",
      "/Applications/anaconda3/lib/python3.7/site-packages/sklearn/linear_model/_coordinate_descent.py:476: ConvergenceWarning: Objective did not converge. You might want to increase the number of iterations. Duality gap: 31477.35768346718, tolerance: 5012.52056862745\n",
      "  positive)\n",
      "/Applications/anaconda3/lib/python3.7/site-packages/sklearn/linear_model/_coordinate_descent.py:476: ConvergenceWarning: Objective did not converge. You might want to increase the number of iterations. Duality gap: 20829.5709661214, tolerance: 5032.6112156862755\n",
      "  positive)\n",
      "/Applications/anaconda3/lib/python3.7/site-packages/sklearn/linear_model/_coordinate_descent.py:476: ConvergenceWarning: Objective did not converge. You might want to increase the number of iterations. Duality gap: 3732.2204389855033, tolerance: 3483.8100439024392\n",
      "  positive)\n",
      "/Applications/anaconda3/lib/python3.7/site-packages/sklearn/linear_model/_coordinate_descent.py:476: ConvergenceWarning: Objective did not converge. You might want to increase the number of iterations. Duality gap: 28100.55824689311, tolerance: 4329.080098039216\n",
      "  positive)\n",
      "/Applications/anaconda3/lib/python3.7/site-packages/sklearn/linear_model/_coordinate_descent.py:476: ConvergenceWarning: Objective did not converge. You might want to increase the number of iterations. Duality gap: 2383.700598192052, tolerance: 2033.0703219512195\n",
      "  positive)\n",
      "/Applications/anaconda3/lib/python3.7/site-packages/sklearn/linear_model/_coordinate_descent.py:476: ConvergenceWarning: Objective did not converge. You might want to increase the number of iterations. Duality gap: 11363.571700264043, tolerance: 2578.7240627450983\n",
      "  positive)\n",
      "/Applications/anaconda3/lib/python3.7/site-packages/sklearn/linear_model/_coordinate_descent.py:476: ConvergenceWarning: Objective did not converge. You might want to increase the number of iterations. Duality gap: 3411.5757063812343, tolerance: 3283.2081121951223\n",
      "  positive)\n",
      "/Applications/anaconda3/lib/python3.7/site-packages/sklearn/linear_model/_coordinate_descent.py:476: ConvergenceWarning: Objective did not converge. You might want to increase the number of iterations. Duality gap: 7937.827409199308, tolerance: 3532.649870588235\n",
      "  positive)\n",
      "/Applications/anaconda3/lib/python3.7/site-packages/sklearn/linear_model/_coordinate_descent.py:476: ConvergenceWarning: Objective did not converge. You might want to increase the number of iterations. Duality gap: 2298.545631909976, tolerance: 2076.3735024390244\n",
      "  positive)\n"
     ]
    },
    {
     "name": "stdout",
     "output_type": "stream",
     "text": [
      "prediction_horizon 2\n"
     ]
    },
    {
     "name": "stderr",
     "output_type": "stream",
     "text": [
      "/Applications/anaconda3/lib/python3.7/site-packages/sklearn/linear_model/_coordinate_descent.py:476: ConvergenceWarning: Objective did not converge. You might want to increase the number of iterations. Duality gap: 19978.727588786747, tolerance: 9044.668472000001\n",
      "  positive)\n",
      "/Applications/anaconda3/lib/python3.7/site-packages/sklearn/linear_model/_coordinate_descent.py:476: ConvergenceWarning: Objective did not converge. You might want to increase the number of iterations. Duality gap: 21974.356792810617, tolerance: 7372.422618000001\n",
      "  positive)\n",
      "/Applications/anaconda3/lib/python3.7/site-packages/sklearn/linear_model/_coordinate_descent.py:476: ConvergenceWarning: Objective did not converge. You might want to increase the number of iterations. Duality gap: 12408.438549723329, tolerance: 9140.119568\n",
      "  positive)\n",
      "/Applications/anaconda3/lib/python3.7/site-packages/sklearn/linear_model/_coordinate_descent.py:476: ConvergenceWarning: Objective did not converge. You might want to increase the number of iterations. Duality gap: 10754.782302657593, tolerance: 8779.347538\n",
      "  positive)\n",
      "/Applications/anaconda3/lib/python3.7/site-packages/sklearn/linear_model/_coordinate_descent.py:476: ConvergenceWarning: Objective did not converge. You might want to increase the number of iterations. Duality gap: 23415.391645649743, tolerance: 9198.872992000002\n",
      "  positive)\n",
      "/Applications/anaconda3/lib/python3.7/site-packages/sklearn/linear_model/_coordinate_descent.py:476: ConvergenceWarning: Objective did not converge. You might want to increase the number of iterations. Duality gap: 16933.39572222395, tolerance: 7395.130537999999\n",
      "  positive)\n",
      "/Applications/anaconda3/lib/python3.7/site-packages/sklearn/linear_model/_coordinate_descent.py:476: ConvergenceWarning: Objective did not converge. You might want to increase the number of iterations. Duality gap: 14614.754046774906, tolerance: 9320.474298000003\n",
      "  positive)\n",
      "/Applications/anaconda3/lib/python3.7/site-packages/sklearn/linear_model/_coordinate_descent.py:476: ConvergenceWarning: Objective did not converge. You might want to increase the number of iterations. Duality gap: 53700.6150066812, tolerance: 10267.206712000001\n",
      "  positive)\n",
      "/Applications/anaconda3/lib/python3.7/site-packages/sklearn/linear_model/_coordinate_descent.py:476: ConvergenceWarning: Objective did not converge. You might want to increase the number of iterations. Duality gap: 8343.765893048658, tolerance: 7442.929897500001\n",
      "  positive)\n"
     ]
    },
    {
     "name": "stdout",
     "output_type": "stream",
     "text": [
      "prediction_horizon 3\n"
     ]
    },
    {
     "name": "stderr",
     "output_type": "stream",
     "text": [
      "/Applications/anaconda3/lib/python3.7/site-packages/sklearn/linear_model/_coordinate_descent.py:476: ConvergenceWarning: Objective did not converge. You might want to increase the number of iterations. Duality gap: 59805.237529705715, tolerance: 21140.844069387756\n",
      "  positive)\n",
      "/Applications/anaconda3/lib/python3.7/site-packages/sklearn/linear_model/_coordinate_descent.py:476: ConvergenceWarning: Objective did not converge. You might want to increase the number of iterations. Duality gap: 45289.57549991352, tolerance: 15525.839000000004\n",
      "  positive)\n",
      "/Applications/anaconda3/lib/python3.7/site-packages/sklearn/linear_model/_coordinate_descent.py:476: ConvergenceWarning: Objective did not converge. You might want to increase the number of iterations. Duality gap: 44552.518033237095, tolerance: 12751.6824122449\n",
      "  positive)\n",
      "/Applications/anaconda3/lib/python3.7/site-packages/sklearn/linear_model/_coordinate_descent.py:476: ConvergenceWarning: Objective did not converge. You might want to increase the number of iterations. Duality gap: 31728.800486426997, tolerance: 14337.325653061223\n",
      "  positive)\n",
      "/Applications/anaconda3/lib/python3.7/site-packages/sklearn/linear_model/_coordinate_descent.py:476: ConvergenceWarning: Objective did not converge. You might want to increase the number of iterations. Duality gap: 107996.33299677073, tolerance: 13341.512999999999\n",
      "  positive)\n",
      "/Applications/anaconda3/lib/python3.7/site-packages/sklearn/linear_model/_coordinate_descent.py:476: ConvergenceWarning: Objective did not converge. You might want to increase the number of iterations. Duality gap: 68192.97030847859, tolerance: 12919.837853061224\n",
      "  positive)\n",
      "/Applications/anaconda3/lib/python3.7/site-packages/sklearn/linear_model/_coordinate_descent.py:476: ConvergenceWarning: Objective did not converge. You might want to increase the number of iterations. Duality gap: 78295.89573328603, tolerance: 17706.436897959185\n",
      "  positive)\n",
      "/Applications/anaconda3/lib/python3.7/site-packages/sklearn/linear_model/_coordinate_descent.py:476: ConvergenceWarning: Objective did not converge. You might want to increase the number of iterations. Duality gap: 44999.834128097806, tolerance: 15602.888563265307\n",
      "  positive)\n",
      "/Applications/anaconda3/lib/python3.7/site-packages/sklearn/linear_model/_coordinate_descent.py:476: ConvergenceWarning: Objective did not converge. You might want to increase the number of iterations. Duality gap: 100917.05664057097, tolerance: 15898.503497959186\n",
      "  positive)\n"
     ]
    }
   ],
   "source": [
    "# predict 3 months ahead -- google trends\n",
    "target_col = 'count_sale'\n",
    "horizon = 3\n",
    "model = models.rollingModel(df,horizon,target_col,feature_column_names,\n",
    "                            modelName='linear',lead_target=True)\n",
    "pred, pred_boot, pred_scale, pred_samples = model.fit_predict(df[feature_column_names], df[target_col])"
   ]
  },
  {
   "cell_type": "markdown",
   "metadata": {},
   "source": [
    "### 2.2 predict 3 months ahead -- time series"
   ]
  },
  {
   "cell_type": "code",
   "execution_count": 7,
   "metadata": {
    "scrolled": true
   },
   "outputs": [
    {
     "name": "stdout",
     "output_type": "stream",
     "text": [
      "WARNING:tensorflow:From /Applications/anaconda3/lib/python3.7/site-packages/tensorflow_probability/python/sts/local_linear_trend.py:324: AffineScalar.__init__ (from tensorflow_probability.python.bijectors.affine_scalar) is deprecated and will be removed after 2020-01-01.\n",
      "Instructions for updating:\n",
      "`AffineScalar` bijector is deprecated; please use `tfb.Shift(loc)(tfb.Scale(...))` instead.\n",
      "WARNING:tensorflow:From /Applications/anaconda3/lib/python3.7/site-packages/tensorflow/python/ops/linalg/linear_operator_composition.py:173: LinearOperator.graph_parents (from tensorflow.python.ops.linalg.linear_operator) is deprecated and will be removed in a future version.\n",
      "Instructions for updating:\n",
      "Do not call `graph_parents`.\n",
      "WARNING:tensorflow:From /Applications/anaconda3/lib/python3.7/site-packages/tensorflow_probability/python/distributions/distribution.py:334: MultivariateNormalFullCovariance.__init__ (from tensorflow_probability.python.distributions.mvn_full_covariance) is deprecated and will be removed after 2019-12-01.\n",
      "Instructions for updating:\n",
      "`MultivariateNormalFullCovariance` is deprecated, use `MultivariateNormalTriL(loc=loc, scale_tril=tf.linalg.cholesky(covariance_matrix))` instead.\n",
      "WARNING:tensorflow:From /Applications/anaconda3/lib/python3.7/site-packages/tensorflow/python/ops/linalg/linear_operator_diag.py:166: calling LinearOperator.__init__ (from tensorflow.python.ops.linalg.linear_operator) with graph_parents is deprecated and will be removed in a future version.\n",
      "Instructions for updating:\n",
      "Do not pass `graph_parents`.  They will  no longer be used.\n",
      "WARNING:tensorflow:From /Applications/anaconda3/lib/python3.7/site-packages/tensorflow_probability/python/distributions/linear_gaussian_ssm.py:467: LinearGaussianStateSpaceModel._initial_step_deprecated_behavior (from tensorflow_probability.python.distributions.linear_gaussian_ssm) is deprecated and will be removed after 2020-02-01.\n",
      "Instructions for updating:\n",
      "Previously, `initial_step` would return the value passed to the constructor, even if that value was not `Tensor`-like. This behavior is now deprecated. In the future, it will always return a `Tensor`-like object.\n",
      "WARNING:tensorflow:From /Applications/anaconda3/lib/python3.7/site-packages/tensorflow_probability/python/math/minimize.py:77: calling <lambda> (from tensorflow_probability.python.vi.optimization) with loss is deprecated and will be removed after 2020-07-01.\n",
      "Instructions for updating:\n",
      "The signature for `trace_fn`s passed to `minimize` has changed. Trace functions now take a single `traceable_quantities` argument, which is a `tfp.math.MinimizeTraceableQuantities` namedtuple containing `traceable_quantities.loss`, `traceable_quantities.gradients`, etc. Please update your `trace_fn` definition.\n"
     ]
    }
   ],
   "source": [
    "#predict 3 months ahead -- Time series\n",
    "model = models.BTSM()\n",
    "model.fit(df['count_sale'].values.astype(float),0)\n",
    "pred_ts, pred_ts_scale, pred_ts_samples = model.predict(np.ones(3))"
   ]
  },
  {
   "cell_type": "markdown",
   "metadata": {},
   "source": [
    "### 2.3 predict 3 months ahead -- linear combination"
   ]
  },
  {
   "cell_type": "code",
   "execution_count": 8,
   "metadata": {
    "scrolled": false
   },
   "outputs": [
    {
     "name": "stdout",
     "output_type": "stream",
     "text": [
      "[7878.82040817 6472.99039788 6418.25346059]\n"
     ]
    }
   ],
   "source": [
    "#combine the two prediciton\n",
    "#params may differ in different market\n",
    "params = [0.6,0.4]\n",
    "pred_com = params[0]*np.array(pred)+params[1]*pred_ts\n",
    "pred_com_scale = params[0]*pred_scale+params[1]*pred_ts_scale\n",
    "\n",
    "print(pred_com)"
   ]
  },
  {
   "cell_type": "markdown",
   "metadata": {},
   "source": [
    "### 2.4 predict 6 months ahead  -- number of sales"
   ]
  },
  {
   "cell_type": "code",
   "execution_count": 9,
   "metadata": {
    "scrolled": true
   },
   "outputs": [
    {
     "name": "stdout",
     "output_type": "stream",
     "text": [
      "<models.linearModel object at 0x7f8fbd70dbd0>\n",
      "<models.linearModel object at 0x7f8f93b69310>\n",
      "<models.linearModel object at 0x7f8f91f4cc90>\n"
     ]
    }
   ],
   "source": [
    "#predict 6 months ahead\n",
    "model = models.rollingCombinedModel(df=df,predict_horizon_total=6, predict_horizon=3,\n",
    "                                    feature_column_names = feature_column_names,\n",
    "                                   target_column = target_col, modelName='linear',\n",
    "                                   lead_target=True)"
   ]
  },
  {
   "cell_type": "code",
   "execution_count": 10,
   "metadata": {},
   "outputs": [
    {
     "name": "stdout",
     "output_type": "stream",
     "text": [
      "prediction_horizon 1\n"
     ]
    },
    {
     "name": "stderr",
     "output_type": "stream",
     "text": [
      "/Applications/anaconda3/lib/python3.7/site-packages/sklearn/linear_model/_coordinate_descent.py:476: ConvergenceWarning: Objective did not converge. You might want to increase the number of iterations. Duality gap: 6819.6610656392295, tolerance: 5230.124219512195\n",
      "  positive)\n",
      "/Applications/anaconda3/lib/python3.7/site-packages/sklearn/linear_model/_coordinate_descent.py:476: ConvergenceWarning: Objective did not converge. You might want to increase the number of iterations. Duality gap: 4152.680347692454, tolerance: 3445.941848780488\n",
      "  positive)\n",
      "/Applications/anaconda3/lib/python3.7/site-packages/sklearn/linear_model/_coordinate_descent.py:476: ConvergenceWarning: Objective did not converge. You might want to increase the number of iterations. Duality gap: 18338.320745861136, tolerance: 4156.255592156863\n",
      "  positive)\n",
      "/Applications/anaconda3/lib/python3.7/site-packages/sklearn/linear_model/_coordinate_descent.py:476: ConvergenceWarning: Objective did not converge. You might want to increase the number of iterations. Duality gap: 26165.06534188327, tolerance: 3977.6047921568625\n",
      "  positive)\n",
      "/Applications/anaconda3/lib/python3.7/site-packages/sklearn/linear_model/_coordinate_descent.py:476: ConvergenceWarning: Objective did not converge. You might want to increase the number of iterations. Duality gap: 24813.81048662706, tolerance: 3480.6111921568627\n",
      "  positive)\n",
      "/Applications/anaconda3/lib/python3.7/site-packages/sklearn/linear_model/_coordinate_descent.py:476: ConvergenceWarning: Objective did not converge. You might want to increase the number of iterations. Duality gap: 3565.0814225578215, tolerance: 3188.8368243902437\n",
      "  positive)\n",
      "/Applications/anaconda3/lib/python3.7/site-packages/sklearn/linear_model/_coordinate_descent.py:476: ConvergenceWarning: Objective did not converge. You might want to increase the number of iterations. Duality gap: 15336.789112757007, tolerance: 3775.170898039216\n",
      "  positive)\n",
      "/Applications/anaconda3/lib/python3.7/site-packages/sklearn/linear_model/_coordinate_descent.py:476: ConvergenceWarning: Objective did not converge. You might want to increase the number of iterations. Duality gap: 2343.4289649006096, tolerance: 2098.663951219513\n",
      "  positive)\n",
      "/Applications/anaconda3/lib/python3.7/site-packages/sklearn/linear_model/_coordinate_descent.py:476: ConvergenceWarning: Objective did not converge. You might want to increase the number of iterations. Duality gap: 3511.5581734347106, tolerance: 3191.286650980392\n",
      "  positive)\n",
      "/Applications/anaconda3/lib/python3.7/site-packages/sklearn/linear_model/_coordinate_descent.py:476: ConvergenceWarning: Objective did not converge. You might want to increase the number of iterations. Duality gap: 5689.797344184059, tolerance: 5379.0210705882355\n",
      "  positive)\n",
      "/Applications/anaconda3/lib/python3.7/site-packages/sklearn/linear_model/_coordinate_descent.py:476: ConvergenceWarning: Objective did not converge. You might want to increase the number of iterations. Duality gap: 14903.192086337813, tolerance: 3942.876835294118\n",
      "  positive)\n",
      "/Applications/anaconda3/lib/python3.7/site-packages/sklearn/linear_model/_coordinate_descent.py:476: ConvergenceWarning: Objective did not converge. You might want to increase the number of iterations. Duality gap: 3109.864741244761, tolerance: 2732.482009756098\n",
      "  positive)\n",
      "/Applications/anaconda3/lib/python3.7/site-packages/sklearn/linear_model/_coordinate_descent.py:476: ConvergenceWarning: Objective did not converge. You might want to increase the number of iterations. Duality gap: 3106.4021328027593, tolerance: 2732.482009756098\n",
      "  positive)\n",
      "/Applications/anaconda3/lib/python3.7/site-packages/sklearn/linear_model/_coordinate_descent.py:476: ConvergenceWarning: Objective did not converge. You might want to increase the number of iterations. Duality gap: 11423.601404727062, tolerance: 2822.654682352941\n",
      "  positive)\n",
      "/Applications/anaconda3/lib/python3.7/site-packages/sklearn/linear_model/_coordinate_descent.py:476: ConvergenceWarning: Objective did not converge. You might want to increase the number of iterations. Duality gap: 3114.4304308294377, tolerance: 2309.373219512195\n",
      "  positive)\n",
      "/Applications/anaconda3/lib/python3.7/site-packages/sklearn/linear_model/_coordinate_descent.py:476: ConvergenceWarning: Objective did not converge. You might want to increase the number of iterations. Duality gap: 3619.2627569400356, tolerance: 2309.373219512195\n",
      "  positive)\n"
     ]
    },
    {
     "name": "stdout",
     "output_type": "stream",
     "text": [
      "prediction_horizon 2\n"
     ]
    },
    {
     "name": "stderr",
     "output_type": "stream",
     "text": [
      "/Applications/anaconda3/lib/python3.7/site-packages/sklearn/linear_model/_coordinate_descent.py:476: ConvergenceWarning: Objective did not converge. You might want to increase the number of iterations. Duality gap: 14869.39881719357, tolerance: 7851.324378\n",
      "  positive)\n",
      "/Applications/anaconda3/lib/python3.7/site-packages/sklearn/linear_model/_coordinate_descent.py:476: ConvergenceWarning: Objective did not converge. You might want to increase the number of iterations. Duality gap: 32866.061749653345, tolerance: 8731.826442000001\n",
      "  positive)\n",
      "/Applications/anaconda3/lib/python3.7/site-packages/sklearn/linear_model/_coordinate_descent.py:476: ConvergenceWarning: Objective did not converge. You might want to increase the number of iterations. Duality gap: 18707.496556528233, tolerance: 8185.630377999999\n",
      "  positive)\n",
      "/Applications/anaconda3/lib/python3.7/site-packages/sklearn/linear_model/_coordinate_descent.py:476: ConvergenceWarning: Objective did not converge. You might want to increase the number of iterations. Duality gap: 13199.609467294336, tolerance: 7716.982721999999\n",
      "  positive)\n",
      "/Applications/anaconda3/lib/python3.7/site-packages/sklearn/linear_model/_coordinate_descent.py:476: ConvergenceWarning: Objective did not converge. You might want to increase the number of iterations. Duality gap: 23749.1671973099, tolerance: 8605.621032000001\n",
      "  positive)\n",
      "/Applications/anaconda3/lib/python3.7/site-packages/sklearn/linear_model/_coordinate_descent.py:476: ConvergenceWarning: Objective did not converge. You might want to increase the number of iterations. Duality gap: 15046.388093611624, tolerance: 8445.661458\n",
      "  positive)\n",
      "/Applications/anaconda3/lib/python3.7/site-packages/sklearn/linear_model/_coordinate_descent.py:476: ConvergenceWarning: Objective did not converge. You might want to increase the number of iterations. Duality gap: 44498.16557631759, tolerance: 9006.532538000001\n",
      "  positive)\n",
      "/Applications/anaconda3/lib/python3.7/site-packages/sklearn/linear_model/_coordinate_descent.py:476: ConvergenceWarning: Objective did not converge. You might want to increase the number of iterations. Duality gap: 14691.912069174985, tolerance: 10720.563538\n",
      "  positive)\n",
      "/Applications/anaconda3/lib/python3.7/site-packages/sklearn/linear_model/_coordinate_descent.py:476: ConvergenceWarning: Objective did not converge. You might want to increase the number of iterations. Duality gap: 68271.28737138223, tolerance: 10407.308152000001\n",
      "  positive)\n",
      "/Applications/anaconda3/lib/python3.7/site-packages/sklearn/linear_model/_coordinate_descent.py:476: ConvergenceWarning: Objective did not converge. You might want to increase the number of iterations. Duality gap: 11597.225767519092, tolerance: 8835.9922375\n",
      "  positive)\n",
      "/Applications/anaconda3/lib/python3.7/site-packages/sklearn/linear_model/_coordinate_descent.py:476: ConvergenceWarning: Objective did not converge. You might want to increase the number of iterations. Duality gap: 44885.60806973697, tolerance: 10347.1376\n",
      "  positive)\n",
      "/Applications/anaconda3/lib/python3.7/site-packages/sklearn/linear_model/_coordinate_descent.py:476: ConvergenceWarning: Objective did not converge. You might want to increase the number of iterations. Duality gap: 47154.18830756091, tolerance: 9382.88465\n",
      "  positive)\n",
      "/Applications/anaconda3/lib/python3.7/site-packages/sklearn/linear_model/_coordinate_descent.py:476: ConvergenceWarning: Objective did not converge. You might want to increase the number of iterations. Duality gap: 32203.450816421726, tolerance: 7515.413927999999\n",
      "  positive)\n",
      "/Applications/anaconda3/lib/python3.7/site-packages/sklearn/linear_model/_coordinate_descent.py:476: ConvergenceWarning: Objective did not converge. You might want to increase the number of iterations. Duality gap: 54853.63615548203, tolerance: 13661.99725\n",
      "  positive)\n",
      "/Applications/anaconda3/lib/python3.7/site-packages/sklearn/linear_model/_coordinate_descent.py:476: ConvergenceWarning: Objective did not converge. You might want to increase the number of iterations. Duality gap: 31421.874312281827, tolerance: 8157.590128000001\n",
      "  positive)\n"
     ]
    },
    {
     "name": "stdout",
     "output_type": "stream",
     "text": [
      "prediction_horizon 3\n"
     ]
    },
    {
     "name": "stderr",
     "output_type": "stream",
     "text": [
      "/Applications/anaconda3/lib/python3.7/site-packages/sklearn/linear_model/_coordinate_descent.py:476: ConvergenceWarning: Objective did not converge. You might want to increase the number of iterations. Duality gap: 40994.80172495371, tolerance: 13945.118040816329\n",
      "  positive)\n",
      "/Applications/anaconda3/lib/python3.7/site-packages/sklearn/linear_model/_coordinate_descent.py:476: ConvergenceWarning: Objective did not converge. You might want to increase the number of iterations. Duality gap: 80867.0465400726, tolerance: 18587.46398367347\n",
      "  positive)\n",
      "/Applications/anaconda3/lib/python3.7/site-packages/sklearn/linear_model/_coordinate_descent.py:476: ConvergenceWarning: Objective did not converge. You might want to increase the number of iterations. Duality gap: 31540.61771729226, tolerance: 16520.640812244903\n",
      "  positive)\n",
      "/Applications/anaconda3/lib/python3.7/site-packages/sklearn/linear_model/_coordinate_descent.py:476: ConvergenceWarning: Objective did not converge. You might want to increase the number of iterations. Duality gap: 95342.65600588715, tolerance: 14898.910191836734\n",
      "  positive)\n",
      "/Applications/anaconda3/lib/python3.7/site-packages/sklearn/linear_model/_coordinate_descent.py:476: ConvergenceWarning: Objective did not converge. You might want to increase the number of iterations. Duality gap: 24389.610217042697, tolerance: 16425.634620408167\n",
      "  positive)\n",
      "/Applications/anaconda3/lib/python3.7/site-packages/sklearn/linear_model/_coordinate_descent.py:476: ConvergenceWarning: Objective did not converge. You might want to increase the number of iterations. Duality gap: 115587.64637117763, tolerance: 15785.7374\n",
      "  positive)\n",
      "/Applications/anaconda3/lib/python3.7/site-packages/sklearn/linear_model/_coordinate_descent.py:476: ConvergenceWarning: Objective did not converge. You might want to increase the number of iterations. Duality gap: 36532.795056600466, tolerance: 13323.250983673468\n",
      "  positive)\n",
      "/Applications/anaconda3/lib/python3.7/site-packages/sklearn/linear_model/_coordinate_descent.py:476: ConvergenceWarning: Objective did not converge. You might want to increase the number of iterations. Duality gap: 32175.555737034014, tolerance: 15756.442910204083\n",
      "  positive)\n",
      "/Applications/anaconda3/lib/python3.7/site-packages/sklearn/linear_model/_coordinate_descent.py:476: ConvergenceWarning: Objective did not converge. You might want to increase the number of iterations. Duality gap: 64593.96127796272, tolerance: 15471.690653061227\n",
      "  positive)\n",
      "/Applications/anaconda3/lib/python3.7/site-packages/sklearn/linear_model/_coordinate_descent.py:476: ConvergenceWarning: Objective did not converge. You might want to increase the number of iterations. Duality gap: 54160.55998470573, tolerance: 10927.033269387755\n",
      "  positive)\n",
      "/Applications/anaconda3/lib/python3.7/site-packages/sklearn/linear_model/_coordinate_descent.py:476: ConvergenceWarning: Objective did not converge. You might want to increase the number of iterations. Duality gap: 58922.252235346976, tolerance: 17491.29613469388\n",
      "  positive)\n"
     ]
    }
   ],
   "source": [
    "pred6_sale, pred6_scale_sale, pred6_samples_sale = model.make_prediction(df[feature_column_names], df[target_col])"
   ]
  },
  {
   "cell_type": "code",
   "execution_count": 11,
   "metadata": {},
   "outputs": [
    {
     "data": {
      "text/plain": [
       "(50, 6)"
      ]
     },
     "execution_count": 11,
     "metadata": {},
     "output_type": "execute_result"
    }
   ],
   "source": [
    "pred6_samples_sale.shape"
   ]
  },
  {
   "cell_type": "markdown",
   "metadata": {},
   "source": [
    "### 2.5 predict 6 months ahead  -- number of new listings"
   ]
  },
  {
   "cell_type": "code",
   "execution_count": 12,
   "metadata": {},
   "outputs": [
    {
     "name": "stdout",
     "output_type": "stream",
     "text": [
      "<models.linearModel object at 0x7f8f8f7a3790>\n",
      "<models.linearModel object at 0x7f8f8f7a3c10>\n",
      "<models.linearModel object at 0x7f8f93616090>\n"
     ]
    }
   ],
   "source": [
    "target_col = 'count_list'\n",
    "#predict 6 months ahead\n",
    "model = models.rollingCombinedModel(df=df,predict_horizon_total=6, predict_horizon=3,\n",
    "                                    feature_column_names = feature_column_names,\n",
    "                                   target_column = target_col, modelName='linear',\n",
    "                                   lead_target=True)"
   ]
  },
  {
   "cell_type": "code",
   "execution_count": 13,
   "metadata": {
    "scrolled": true
   },
   "outputs": [
    {
     "name": "stdout",
     "output_type": "stream",
     "text": [
      "prediction_horizon 1\n"
     ]
    },
    {
     "name": "stderr",
     "output_type": "stream",
     "text": [
      "/Applications/anaconda3/lib/python3.7/site-packages/sklearn/linear_model/_coordinate_descent.py:476: ConvergenceWarning: Objective did not converge. You might want to increase the number of iterations. Duality gap: 200984.82581671004, tolerance: 31066.11181568628\n",
      "  positive)\n",
      "/Applications/anaconda3/lib/python3.7/site-packages/sklearn/linear_model/_coordinate_descent.py:476: ConvergenceWarning: Objective did not converge. You might want to increase the number of iterations. Duality gap: 52742.54547033273, tolerance: 51038.32710243903\n",
      "  positive)\n",
      "/Applications/anaconda3/lib/python3.7/site-packages/sklearn/linear_model/_coordinate_descent.py:476: ConvergenceWarning: Objective did not converge. You might want to increase the number of iterations. Duality gap: 58120.803983661346, tolerance: 37482.15055609758\n",
      "  positive)\n",
      "/Applications/anaconda3/lib/python3.7/site-packages/sklearn/linear_model/_coordinate_descent.py:476: ConvergenceWarning: Objective did not converge. You might want to increase the number of iterations. Duality gap: 80587.09712742828, tolerance: 37482.15055609758\n",
      "  positive)\n",
      "/Applications/anaconda3/lib/python3.7/site-packages/sklearn/linear_model/_coordinate_descent.py:476: ConvergenceWarning: Objective did not converge. You might want to increase the number of iterations. Duality gap: 45922.40698675066, tolerance: 37482.15055609758\n",
      "  positive)\n",
      "/Applications/anaconda3/lib/python3.7/site-packages/sklearn/linear_model/_coordinate_descent.py:476: ConvergenceWarning: Objective did not converge. You might want to increase the number of iterations. Duality gap: 21988.961593882646, tolerance: 17532.959921951224\n",
      "  positive)\n",
      "/Applications/anaconda3/lib/python3.7/site-packages/sklearn/linear_model/_coordinate_descent.py:476: ConvergenceWarning: Objective did not converge. You might want to increase the number of iterations. Duality gap: 18961.077910581604, tolerance: 17532.959921951224\n",
      "  positive)\n",
      "/Applications/anaconda3/lib/python3.7/site-packages/sklearn/linear_model/_coordinate_descent.py:476: ConvergenceWarning: Objective did not converge. You might want to increase the number of iterations. Duality gap: 19154.561826565303, tolerance: 17316.805960975613\n",
      "  positive)\n",
      "/Applications/anaconda3/lib/python3.7/site-packages/sklearn/linear_model/_coordinate_descent.py:476: ConvergenceWarning: Objective did not converge. You might want to increase the number of iterations. Duality gap: 20540.136096822564, tolerance: 17316.805960975613\n",
      "  positive)\n",
      "/Applications/anaconda3/lib/python3.7/site-packages/sklearn/linear_model/_coordinate_descent.py:476: ConvergenceWarning: Objective did not converge. You might want to increase the number of iterations. Duality gap: 45202.00131804496, tolerance: 43307.71691\n",
      "  positive)\n",
      "/Applications/anaconda3/lib/python3.7/site-packages/sklearn/linear_model/_coordinate_descent.py:476: ConvergenceWarning: Objective did not converge. You might want to increase the number of iterations. Duality gap: 42814.401236496866, tolerance: 39850.683609756095\n",
      "  positive)\n",
      "/Applications/anaconda3/lib/python3.7/site-packages/sklearn/linear_model/_coordinate_descent.py:476: ConvergenceWarning: Objective did not converge. You might want to increase the number of iterations. Duality gap: 15271.45149820426, tolerance: 12312.0506195122\n",
      "  positive)\n",
      "/Applications/anaconda3/lib/python3.7/site-packages/sklearn/linear_model/_coordinate_descent.py:476: ConvergenceWarning: Objective did not converge. You might want to increase the number of iterations. Duality gap: 52455.36060766551, tolerance: 14890.280733333339\n",
      "  positive)\n",
      "/Applications/anaconda3/lib/python3.7/site-packages/sklearn/linear_model/_coordinate_descent.py:476: ConvergenceWarning: Objective did not converge. You might want to increase the number of iterations. Duality gap: 532381.7494290589, tolerance: 75459.65007058825\n",
      "  positive)\n",
      "/Applications/anaconda3/lib/python3.7/site-packages/sklearn/linear_model/_coordinate_descent.py:476: ConvergenceWarning: Objective did not converge. You might want to increase the number of iterations. Duality gap: 231645.31827841233, tolerance: 32971.69020392157\n",
      "  positive)\n",
      "/Applications/anaconda3/lib/python3.7/site-packages/sklearn/linear_model/_coordinate_descent.py:476: ConvergenceWarning: Objective did not converge. You might want to increase the number of iterations. Duality gap: 18394.02701008995, tolerance: 18101.205102439028\n",
      "  positive)\n",
      "/Applications/anaconda3/lib/python3.7/site-packages/sklearn/linear_model/_coordinate_descent.py:476: ConvergenceWarning: Objective did not converge. You might want to increase the number of iterations. Duality gap: 329425.3586847936, tolerance: 63370.61600392156\n",
      "  positive)\n",
      "/Applications/anaconda3/lib/python3.7/site-packages/sklearn/linear_model/_coordinate_descent.py:476: ConvergenceWarning: Objective did not converge. You might want to increase the number of iterations. Duality gap: 47756.403112232685, tolerance: 37457.257737500004\n",
      "  positive)\n",
      "/Applications/anaconda3/lib/python3.7/site-packages/sklearn/linear_model/_coordinate_descent.py:476: ConvergenceWarning: Objective did not converge. You might want to increase the number of iterations. Duality gap: 221133.86989195604, tolerance: 38814.56867058823\n",
      "  positive)\n",
      "/Applications/anaconda3/lib/python3.7/site-packages/sklearn/linear_model/_coordinate_descent.py:476: ConvergenceWarning: Objective did not converge. You might want to increase the number of iterations. Duality gap: 15848.208101984346, tolerance: 10393.031215686275\n",
      "  positive)\n",
      "/Applications/anaconda3/lib/python3.7/site-packages/sklearn/linear_model/_coordinate_descent.py:476: ConvergenceWarning: Objective did not converge. You might want to increase the number of iterations. Duality gap: 254509.85910479102, tolerance: 31310.345250980397\n",
      "  positive)\n"
     ]
    },
    {
     "name": "stdout",
     "output_type": "stream",
     "text": [
      "prediction_horizon 2\n"
     ]
    },
    {
     "name": "stderr",
     "output_type": "stream",
     "text": [
      "/Applications/anaconda3/lib/python3.7/site-packages/sklearn/linear_model/_coordinate_descent.py:476: ConvergenceWarning: Objective did not converge. You might want to increase the number of iterations. Duality gap: 208624.04951880366, tolerance: 83288.3698\n",
      "  positive)\n",
      "/Applications/anaconda3/lib/python3.7/site-packages/sklearn/linear_model/_coordinate_descent.py:476: ConvergenceWarning: Objective did not converge. You might want to increase the number of iterations. Duality gap: 380533.5277354107, tolerance: 88926.964042\n",
      "  positive)\n",
      "/Applications/anaconda3/lib/python3.7/site-packages/sklearn/linear_model/_coordinate_descent.py:476: ConvergenceWarning: Objective did not converge. You might want to increase the number of iterations. Duality gap: 76624.11679366976, tolerance: 56111.23384\n",
      "  positive)\n",
      "/Applications/anaconda3/lib/python3.7/site-packages/sklearn/linear_model/_coordinate_descent.py:476: ConvergenceWarning: Objective did not converge. You might want to increase the number of iterations. Duality gap: 125650.29423162472, tolerance: 46011.540352\n",
      "  positive)\n",
      "/Applications/anaconda3/lib/python3.7/site-packages/sklearn/linear_model/_coordinate_descent.py:476: ConvergenceWarning: Objective did not converge. You might want to increase the number of iterations. Duality gap: 280255.6636187868, tolerance: 73902.23737800002\n",
      "  positive)\n",
      "/Applications/anaconda3/lib/python3.7/site-packages/sklearn/linear_model/_coordinate_descent.py:476: ConvergenceWarning: Objective did not converge. You might want to increase the number of iterations. Duality gap: 111668.42804742651, tolerance: 100955.95684000001\n",
      "  positive)\n",
      "/Applications/anaconda3/lib/python3.7/site-packages/sklearn/linear_model/_coordinate_descent.py:476: ConvergenceWarning: Objective did not converge. You might want to increase the number of iterations. Duality gap: 494320.4100182815, tolerance: 105387.97908800001\n",
      "  positive)\n",
      "/Applications/anaconda3/lib/python3.7/site-packages/sklearn/linear_model/_coordinate_descent.py:476: ConvergenceWarning: Objective did not converge. You might want to increase the number of iterations. Duality gap: 108332.49120774306, tolerance: 98402.90736\n",
      "  positive)\n",
      "/Applications/anaconda3/lib/python3.7/site-packages/sklearn/linear_model/_coordinate_descent.py:476: ConvergenceWarning: Objective did not converge. You might want to increase the number of iterations. Duality gap: 108638.88977411529, tolerance: 98402.90736\n",
      "  positive)\n"
     ]
    },
    {
     "name": "stdout",
     "output_type": "stream",
     "text": [
      "prediction_horizon 3\n"
     ]
    },
    {
     "name": "stderr",
     "output_type": "stream",
     "text": [
      "/Applications/anaconda3/lib/python3.7/site-packages/sklearn/linear_model/_coordinate_descent.py:476: ConvergenceWarning: Objective did not converge. You might want to increase the number of iterations. Duality gap: 1532299.6108684933, tolerance: 216863.15036326533\n",
      "  positive)\n",
      "/Applications/anaconda3/lib/python3.7/site-packages/sklearn/linear_model/_coordinate_descent.py:476: ConvergenceWarning: Objective did not converge. You might want to increase the number of iterations. Duality gap: 406614.5373875097, tolerance: 142378.8646\n",
      "  positive)\n",
      "/Applications/anaconda3/lib/python3.7/site-packages/sklearn/linear_model/_coordinate_descent.py:476: ConvergenceWarning: Objective did not converge. You might want to increase the number of iterations. Duality gap: 170600.7541307034, tolerance: 77212.663\n",
      "  positive)\n",
      "/Applications/anaconda3/lib/python3.7/site-packages/sklearn/linear_model/_coordinate_descent.py:476: ConvergenceWarning: Objective did not converge. You might want to increase the number of iterations. Duality gap: 246344.18688659044, tolerance: 50008.71791020409\n",
      "  positive)\n",
      "/Applications/anaconda3/lib/python3.7/site-packages/sklearn/linear_model/_coordinate_descent.py:476: ConvergenceWarning: Objective did not converge. You might want to increase the number of iterations. Duality gap: 575933.1419060499, tolerance: 134358.32990612244\n",
      "  positive)\n",
      "/Applications/anaconda3/lib/python3.7/site-packages/sklearn/linear_model/_coordinate_descent.py:476: ConvergenceWarning: Objective did not converge. You might want to increase the number of iterations. Duality gap: 290358.92371666053, tolerance: 84402.53676734696\n",
      "  positive)\n",
      "/Applications/anaconda3/lib/python3.7/site-packages/sklearn/linear_model/_coordinate_descent.py:476: ConvergenceWarning: Objective did not converge. You might want to increase the number of iterations. Duality gap: 352822.1816116793, tolerance: 173331.28688163264\n",
      "  positive)\n",
      "/Applications/anaconda3/lib/python3.7/site-packages/sklearn/linear_model/_coordinate_descent.py:476: ConvergenceWarning: Objective did not converge. You might want to increase the number of iterations. Duality gap: 120249.3631449421, tolerance: 56308.45456326532\n",
      "  positive)\n",
      "/Applications/anaconda3/lib/python3.7/site-packages/sklearn/linear_model/_coordinate_descent.py:476: ConvergenceWarning: Objective did not converge. You might want to increase the number of iterations. Duality gap: 1065041.0198217873, tolerance: 156713.3594244898\n",
      "  positive)\n",
      "/Applications/anaconda3/lib/python3.7/site-packages/sklearn/linear_model/_coordinate_descent.py:476: ConvergenceWarning: Objective did not converge. You might want to increase the number of iterations. Duality gap: 178191.93349563517, tolerance: 96241.90529743588\n",
      "  positive)\n",
      "/Applications/anaconda3/lib/python3.7/site-packages/sklearn/linear_model/_coordinate_descent.py:476: ConvergenceWarning: Objective did not converge. You might want to increase the number of iterations. Duality gap: 514051.24361902475, tolerance: 67140.1373632653\n",
      "  positive)\n"
     ]
    }
   ],
   "source": [
    "pred6_listing, pred6_scale_listing, pred6_samples_listing = model.make_prediction(df[feature_column_names], df[target_col])"
   ]
  },
  {
   "cell_type": "code",
   "execution_count": 14,
   "metadata": {},
   "outputs": [
    {
     "data": {
      "text/plain": [
       "(50, 6)"
      ]
     },
     "execution_count": 14,
     "metadata": {},
     "output_type": "execute_result"
    }
   ],
   "source": [
    "pred6_samples_listing.shape"
   ]
  },
  {
   "cell_type": "markdown",
   "metadata": {},
   "source": [
    "### Step 3: Save the prediction samples for further use"
   ]
  },
  {
   "cell_type": "code",
   "execution_count": 15,
   "metadata": {},
   "outputs": [],
   "source": [
    "for i in range(6):\n",
    "    save = pd.DataFrame(columns=['number of sales', 'number of listings'])\n",
    "    save['number of sales'] = pred6_samples_sale[:,i]\n",
    "    save['number of listings'] = pred6_samples_listing[:,i]\n",
    "    save.to_csv('outputs/denver/'+str(i+1)+'_month_market_level_forecast_samples.csv', index=False)"
   ]
  },
  {
   "cell_type": "code",
   "execution_count": null,
   "metadata": {},
   "outputs": [],
   "source": []
  }
 ],
 "metadata": {
  "kernelspec": {
   "display_name": "Python 3",
   "language": "python",
   "name": "python3"
  },
  "language_info": {
   "codemirror_mode": {
    "name": "ipython",
    "version": 3
   },
   "file_extension": ".py",
   "mimetype": "text/x-python",
   "name": "python",
   "nbconvert_exporter": "python",
   "pygments_lexer": "ipython3",
   "version": "3.7.4"
  }
 },
 "nbformat": 4,
 "nbformat_minor": 4
}
