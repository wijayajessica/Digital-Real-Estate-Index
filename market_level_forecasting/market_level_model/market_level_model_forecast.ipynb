{
 "cells": [
  {
   "cell_type": "markdown",
   "metadata": {},
   "source": [
    "### Market Level Forecasting"
   ]
  },
  {
   "cell_type": "code",
   "execution_count": 2,
   "metadata": {
    "scrolled": true
   },
   "outputs": [],
   "source": [
    "import numpy as np\n",
    "import pandas as pd\n",
    "import matplotlib.pyplot as plt\n",
    "import preprocessing\n",
    "from preprocessing import preprocessingMLS, featureEngineering\n",
    "from getGoogleTrends import getGoogleTrendsData\n",
    "import models\n",
    "from imp import reload\n",
    "import matplotlib.ticker as ticker"
   ]
  },
  {
   "cell_type": "markdown",
   "metadata": {},
   "source": [
    "### Step 1: Read and preprocess data\n",
    "House market data, Google Trends, and Economic indicators"
   ]
  },
  {
   "cell_type": "code",
   "execution_count": 3,
   "metadata": {},
   "outputs": [],
   "source": [
    "data_dir = 'index-team-data/denver/'"
   ]
  },
  {
   "cell_type": "code",
   "execution_count": 4,
   "metadata": {},
   "outputs": [],
   "source": [
    "#read in market data\n",
    "process1 = preprocessingMLS(data_dir+'listing_dates_with_ct.csv')\n",
    "monthData = process1.get_monthly_data(columns=['count_sale','count_list','sale_price'],start_date='2016-03', end_date='2020-09')\n",
    "\n",
    "\n",
    "#get google trends data from API/read in data\n",
    "#----------------------------------------------------\n",
    "#gt = getGoogleTrendsData(geo='US-GA',city='Atlanta')\n",
    "#trend = gt.getData(times=10,date='2016-03-01 2020-09-30',scaled=True)\n",
    "#trend.to_csv('google_trends_atlanta_scaled.csv')\n",
    "#----------------------------------------------------\n",
    "trend = pd.read_csv(data_dir+'google_trends/google_trends_scaled.csv')\n",
    "\n",
    "\n",
    "#read in economics indicator features, if needed\n",
    "#econ = pd.read_csv('econ_data.csv')\n",
    "\n",
    "merged = pd.merge(monthData, trend).drop(['Unnamed: 0'],axis=1)"
   ]
  },
  {
   "cell_type": "code",
   "execution_count": 5,
   "metadata": {},
   "outputs": [
    {
     "name": "stdout",
     "output_type": "stream",
     "text": [
      "136\n"
     ]
    }
   ],
   "source": [
    "#create lag features, pct change features and one hot month features with featureEngineering\n",
    "feature_column_names = merged.columns.delete(0)\n",
    "fe = preprocessing.featureEngineering(merged,feature_column_names)\n",
    "fe.create_lag_features(lag_num_list=[1,3])\n",
    "fe.create_pct_change_features(lag_num_list=[1])\n",
    "fe.create_month_one_hot()\n",
    "df = fe.get_dataFrame()\n",
    "feature_column_names = fe.get_feature_names()\n",
    "print(len(feature_column_names))"
   ]
  },
  {
   "cell_type": "markdown",
   "metadata": {},
   "source": [
    "### Step 2: Make predictions"
   ]
  },
  {
   "cell_type": "markdown",
   "metadata": {},
   "source": [
    "### 2.1 predict 3 months ahead -- google trends"
   ]
  },
  {
   "cell_type": "code",
   "execution_count": 6,
   "metadata": {
    "scrolled": true
   },
   "outputs": [
    {
     "name": "stdout",
     "output_type": "stream",
     "text": [
      "<models.linearModel object at 0x7f87461b8c90>\n",
      "<models.linearModel object at 0x7f87461b8f90>\n",
      "<models.linearModel object at 0x7f87461b8c10>\n",
      "prediction_horizon 1\n"
     ]
    },
    {
     "name": "stderr",
     "output_type": "stream",
     "text": [
      "/Applications/anaconda3/lib/python3.7/site-packages/sklearn/linear_model/_coordinate_descent.py:476: ConvergenceWarning: Objective did not converge. You might want to increase the number of iterations. Duality gap: 22550.308295654155, tolerance: 4429.343462745098\n",
      "  positive)\n",
      "/Applications/anaconda3/lib/python3.7/site-packages/sklearn/linear_model/_coordinate_descent.py:476: ConvergenceWarning: Objective did not converge. You might want to increase the number of iterations. Duality gap: 3729.035679868073, tolerance: 3538.99419\n",
      "  positive)\n",
      "/Applications/anaconda3/lib/python3.7/site-packages/sklearn/linear_model/_coordinate_descent.py:476: ConvergenceWarning: Objective did not converge. You might want to increase the number of iterations. Duality gap: 4043.501137708925, tolerance: 3920.42119\n",
      "  positive)\n",
      "/Applications/anaconda3/lib/python3.7/site-packages/sklearn/linear_model/_coordinate_descent.py:476: ConvergenceWarning: Objective did not converge. You might want to increase the number of iterations. Duality gap: 3697.4349811327993, tolerance: 3411.7627024390254\n",
      "  positive)\n",
      "/Applications/anaconda3/lib/python3.7/site-packages/sklearn/linear_model/_coordinate_descent.py:476: ConvergenceWarning: Objective did not converge. You might want to increase the number of iterations. Duality gap: 3979.3004869160213, tolerance: 3411.7627024390254\n",
      "  positive)\n",
      "/Applications/anaconda3/lib/python3.7/site-packages/sklearn/linear_model/_coordinate_descent.py:476: ConvergenceWarning: Objective did not converge. You might want to increase the number of iterations. Duality gap: 12101.024488667585, tolerance: 2419.0477176470586\n",
      "  positive)\n",
      "/Applications/anaconda3/lib/python3.7/site-packages/sklearn/linear_model/_coordinate_descent.py:476: ConvergenceWarning: Objective did not converge. You might want to increase the number of iterations. Duality gap: 4992.146281756461, tolerance: 2978.9872775000003\n",
      "  positive)\n",
      "/Applications/anaconda3/lib/python3.7/site-packages/sklearn/linear_model/_coordinate_descent.py:476: ConvergenceWarning: Objective did not converge. You might want to increase the number of iterations. Duality gap: 5517.921352990437, tolerance: 2978.9872775000003\n",
      "  positive)\n",
      "/Applications/anaconda3/lib/python3.7/site-packages/sklearn/linear_model/_coordinate_descent.py:476: ConvergenceWarning: Objective did not converge. You might want to increase the number of iterations. Duality gap: 21517.40250127552, tolerance: 6095.444098039216\n",
      "  positive)\n",
      "/Applications/anaconda3/lib/python3.7/site-packages/sklearn/linear_model/_coordinate_descent.py:476: ConvergenceWarning: Objective did not converge. You might want to increase the number of iterations. Duality gap: 5441.534597204183, tolerance: 4230.3381500000005\n",
      "  positive)\n",
      "/Applications/anaconda3/lib/python3.7/site-packages/sklearn/linear_model/_coordinate_descent.py:476: ConvergenceWarning: Objective did not converge. You might want to increase the number of iterations. Duality gap: 7964.53066969139, tolerance: 4230.3381500000005\n",
      "  positive)\n",
      "/Applications/anaconda3/lib/python3.7/site-packages/sklearn/linear_model/_coordinate_descent.py:476: ConvergenceWarning: Objective did not converge. You might want to increase the number of iterations. Duality gap: 7291.192954895436, tolerance: 3833.6999756097566\n",
      "  positive)\n",
      "/Applications/anaconda3/lib/python3.7/site-packages/sklearn/linear_model/_coordinate_descent.py:476: ConvergenceWarning: Objective did not converge. You might want to increase the number of iterations. Duality gap: 5456.885363187583, tolerance: 3833.6999756097566\n",
      "  positive)\n",
      "/Applications/anaconda3/lib/python3.7/site-packages/sklearn/linear_model/_coordinate_descent.py:476: ConvergenceWarning: Objective did not converge. You might want to increase the number of iterations. Duality gap: 4962.504605845665, tolerance: 3833.6999756097566\n",
      "  positive)\n",
      "/Applications/anaconda3/lib/python3.7/site-packages/sklearn/linear_model/_coordinate_descent.py:476: ConvergenceWarning: Objective did not converge. You might want to increase the number of iterations. Duality gap: 4614.197055670316, tolerance: 3833.6999756097566\n",
      "  positive)\n",
      "/Applications/anaconda3/lib/python3.7/site-packages/sklearn/linear_model/_coordinate_descent.py:476: ConvergenceWarning: Objective did not converge. You might want to increase the number of iterations. Duality gap: 2512.3136834162287, tolerance: 2240.746039024391\n",
      "  positive)\n",
      "/Applications/anaconda3/lib/python3.7/site-packages/sklearn/linear_model/_coordinate_descent.py:476: ConvergenceWarning: Objective did not converge. You might want to increase the number of iterations. Duality gap: 2572.982678517641, tolerance: 2240.746039024391\n",
      "  positive)\n",
      "/Applications/anaconda3/lib/python3.7/site-packages/sklearn/linear_model/_coordinate_descent.py:476: ConvergenceWarning: Objective did not converge. You might want to increase the number of iterations. Duality gap: 2983.7298528574174, tolerance: 2980.8573804878047\n",
      "  positive)\n",
      "/Applications/anaconda3/lib/python3.7/site-packages/sklearn/linear_model/_coordinate_descent.py:476: ConvergenceWarning: Objective did not converge. You might want to increase the number of iterations. Duality gap: 4719.318972077803, tolerance: 2980.8573804878047\n",
      "  positive)\n",
      "/Applications/anaconda3/lib/python3.7/site-packages/sklearn/linear_model/_coordinate_descent.py:476: ConvergenceWarning: Objective did not converge. You might want to increase the number of iterations. Duality gap: 4137.614338980755, tolerance: 2980.8573804878047\n",
      "  positive)\n",
      "/Applications/anaconda3/lib/python3.7/site-packages/sklearn/linear_model/_coordinate_descent.py:476: ConvergenceWarning: Objective did not converge. You might want to increase the number of iterations. Duality gap: 3833.61715738941, tolerance: 3063.371556097561\n",
      "  positive)\n",
      "/Applications/anaconda3/lib/python3.7/site-packages/sklearn/linear_model/_coordinate_descent.py:476: ConvergenceWarning: Objective did not converge. You might want to increase the number of iterations. Duality gap: 3401.421299811642, tolerance: 3063.371556097561\n",
      "  positive)\n",
      "/Applications/anaconda3/lib/python3.7/site-packages/sklearn/linear_model/_coordinate_descent.py:476: ConvergenceWarning: Objective did not converge. You might want to increase the number of iterations. Duality gap: 3340.076806266283, tolerance: 2964.4349951219506\n",
      "  positive)\n",
      "/Applications/anaconda3/lib/python3.7/site-packages/sklearn/linear_model/_coordinate_descent.py:476: ConvergenceWarning: Objective did not converge. You might want to increase the number of iterations. Duality gap: 6772.132647770224, tolerance: 4785.5442243902435\n",
      "  positive)\n",
      "/Applications/anaconda3/lib/python3.7/site-packages/sklearn/linear_model/_coordinate_descent.py:476: ConvergenceWarning: Objective did not converge. You might want to increase the number of iterations. Duality gap: 17331.787758260743, tolerance: 5392.437803921569\n",
      "  positive)\n"
     ]
    },
    {
     "name": "stdout",
     "output_type": "stream",
     "text": [
      "prediction_horizon 2\n"
     ]
    },
    {
     "name": "stderr",
     "output_type": "stream",
     "text": [
      "/Applications/anaconda3/lib/python3.7/site-packages/sklearn/linear_model/_coordinate_descent.py:476: ConvergenceWarning: Objective did not converge. You might want to increase the number of iterations. Duality gap: 41633.13298217836, tolerance: 8617.874098\n",
      "  positive)\n",
      "/Applications/anaconda3/lib/python3.7/site-packages/sklearn/linear_model/_coordinate_descent.py:476: ConvergenceWarning: Objective did not converge. You might want to increase the number of iterations. Duality gap: 26930.66937131038, tolerance: 10536.895928\n",
      "  positive)\n",
      "/Applications/anaconda3/lib/python3.7/site-packages/sklearn/linear_model/_coordinate_descent.py:476: ConvergenceWarning: Objective did not converge. You might want to increase the number of iterations. Duality gap: 59605.17301178814, tolerance: 6627.588888\n",
      "  positive)\n",
      "/Applications/anaconda3/lib/python3.7/site-packages/sklearn/linear_model/_coordinate_descent.py:476: ConvergenceWarning: Objective did not converge. You might want to increase the number of iterations. Duality gap: 37262.902025026175, tolerance: 8352.110608\n",
      "  positive)\n",
      "/Applications/anaconda3/lib/python3.7/site-packages/sklearn/linear_model/_coordinate_descent.py:476: ConvergenceWarning: Objective did not converge. You might want to increase the number of iterations. Duality gap: 60546.14896018201, tolerance: 11450.963952\n",
      "  positive)\n",
      "/Applications/anaconda3/lib/python3.7/site-packages/sklearn/linear_model/_coordinate_descent.py:476: ConvergenceWarning: Objective did not converge. You might want to increase the number of iterations. Duality gap: 23010.60709926623, tolerance: 9140.844162\n",
      "  positive)\n",
      "/Applications/anaconda3/lib/python3.7/site-packages/sklearn/linear_model/_coordinate_descent.py:476: ConvergenceWarning: Objective did not converge. You might want to increase the number of iterations. Duality gap: 44356.840690376404, tolerance: 8373.44945\n",
      "  positive)\n",
      "/Applications/anaconda3/lib/python3.7/site-packages/sklearn/linear_model/_coordinate_descent.py:476: ConvergenceWarning: Objective did not converge. You might want to increase the number of iterations. Duality gap: 30731.966169574014, tolerance: 9031.473632\n",
      "  positive)\n",
      "/Applications/anaconda3/lib/python3.7/site-packages/sklearn/linear_model/_coordinate_descent.py:476: ConvergenceWarning: Objective did not converge. You might want to increase the number of iterations. Duality gap: 22844.94584958283, tolerance: 6698.000050000001\n",
      "  positive)\n",
      "/Applications/anaconda3/lib/python3.7/site-packages/sklearn/linear_model/_coordinate_descent.py:476: ConvergenceWarning: Objective did not converge. You might want to increase the number of iterations. Duality gap: 16364.45748955585, tolerance: 8053.313568\n",
      "  positive)\n",
      "/Applications/anaconda3/lib/python3.7/site-packages/sklearn/linear_model/_coordinate_descent.py:476: ConvergenceWarning: Objective did not converge. You might want to increase the number of iterations. Duality gap: 16928.467262755905, tolerance: 9569.505200000001\n",
      "  positive)\n"
     ]
    },
    {
     "name": "stdout",
     "output_type": "stream",
     "text": [
      "prediction_horizon 3\n"
     ]
    },
    {
     "name": "stderr",
     "output_type": "stream",
     "text": [
      "/Applications/anaconda3/lib/python3.7/site-packages/sklearn/linear_model/_coordinate_descent.py:476: ConvergenceWarning: Objective did not converge. You might want to increase the number of iterations. Duality gap: 23301.001640125607, tolerance: 10454.083412244898\n",
      "  positive)\n",
      "/Applications/anaconda3/lib/python3.7/site-packages/sklearn/linear_model/_coordinate_descent.py:476: ConvergenceWarning: Objective did not converge. You might want to increase the number of iterations. Duality gap: 30531.41593655072, tolerance: 21436.91093877551\n",
      "  positive)\n",
      "/Applications/anaconda3/lib/python3.7/site-packages/sklearn/linear_model/_coordinate_descent.py:476: ConvergenceWarning: Objective did not converge. You might want to increase the number of iterations. Duality gap: 50110.437900059456, tolerance: 13249.59067755102\n",
      "  positive)\n",
      "/Applications/anaconda3/lib/python3.7/site-packages/sklearn/linear_model/_coordinate_descent.py:476: ConvergenceWarning: Objective did not converge. You might want to increase the number of iterations. Duality gap: 59207.18604141236, tolerance: 18201.222848979593\n",
      "  positive)\n",
      "/Applications/anaconda3/lib/python3.7/site-packages/sklearn/linear_model/_coordinate_descent.py:476: ConvergenceWarning: Objective did not converge. You might want to increase the number of iterations. Duality gap: 81172.26442097346, tolerance: 15627.870926530615\n",
      "  positive)\n",
      "/Applications/anaconda3/lib/python3.7/site-packages/sklearn/linear_model/_coordinate_descent.py:476: ConvergenceWarning: Objective did not converge. You might want to increase the number of iterations. Duality gap: 55485.77775202835, tolerance: 18027.101620408164\n",
      "  positive)\n",
      "/Applications/anaconda3/lib/python3.7/site-packages/sklearn/linear_model/_coordinate_descent.py:476: ConvergenceWarning: Objective did not converge. You might want to increase the number of iterations. Duality gap: 48912.392524962015, tolerance: 11823.668995918368\n",
      "  positive)\n",
      "/Applications/anaconda3/lib/python3.7/site-packages/sklearn/linear_model/_coordinate_descent.py:476: ConvergenceWarning: Objective did not converge. You might want to increase the number of iterations. Duality gap: 69194.50515602899, tolerance: 11348.613710204083\n",
      "  positive)\n",
      "/Applications/anaconda3/lib/python3.7/site-packages/sklearn/linear_model/_coordinate_descent.py:476: ConvergenceWarning: Objective did not converge. You might want to increase the number of iterations. Duality gap: 48849.952998686764, tolerance: 17931.333563265307\n",
      "  positive)\n",
      "/Applications/anaconda3/lib/python3.7/site-packages/sklearn/linear_model/_coordinate_descent.py:476: ConvergenceWarning: Objective did not converge. You might want to increase the number of iterations. Duality gap: 46812.71696499448, tolerance: 16955.873563265308\n",
      "  positive)\n"
     ]
    }
   ],
   "source": [
    "# predict 3 months ahead -- google trends\n",
    "target_col = 'count_sale'\n",
    "horizon = 3\n",
    "model = models.rollingModel(df,horizon,target_col,feature_column_names,\n",
    "                            modelName='linear',lead_target=True)\n",
    "pred, pred_boot, pred_scale, pred_samples = model.fit_predict(df[feature_column_names], df[target_col])"
   ]
  },
  {
   "cell_type": "markdown",
   "metadata": {},
   "source": [
    "### 2.2 predict 3 months ahead -- time series"
   ]
  },
  {
   "cell_type": "code",
   "execution_count": 7,
   "metadata": {
    "scrolled": true
   },
   "outputs": [
    {
     "name": "stdout",
     "output_type": "stream",
     "text": [
      "WARNING:tensorflow:From /Applications/anaconda3/lib/python3.7/site-packages/tensorflow_probability/python/sts/local_linear_trend.py:324: AffineScalar.__init__ (from tensorflow_probability.python.bijectors.affine_scalar) is deprecated and will be removed after 2020-01-01.\n",
      "Instructions for updating:\n",
      "`AffineScalar` bijector is deprecated; please use `tfb.Shift(loc)(tfb.Scale(...))` instead.\n",
      "WARNING:tensorflow:From /Applications/anaconda3/lib/python3.7/site-packages/tensorflow/python/ops/linalg/linear_operator_composition.py:173: LinearOperator.graph_parents (from tensorflow.python.ops.linalg.linear_operator) is deprecated and will be removed in a future version.\n",
      "Instructions for updating:\n",
      "Do not call `graph_parents`.\n",
      "WARNING:tensorflow:From /Applications/anaconda3/lib/python3.7/site-packages/tensorflow_probability/python/distributions/distribution.py:334: MultivariateNormalFullCovariance.__init__ (from tensorflow_probability.python.distributions.mvn_full_covariance) is deprecated and will be removed after 2019-12-01.\n",
      "Instructions for updating:\n",
      "`MultivariateNormalFullCovariance` is deprecated, use `MultivariateNormalTriL(loc=loc, scale_tril=tf.linalg.cholesky(covariance_matrix))` instead.\n",
      "WARNING:tensorflow:From /Applications/anaconda3/lib/python3.7/site-packages/tensorflow/python/ops/linalg/linear_operator_diag.py:166: calling LinearOperator.__init__ (from tensorflow.python.ops.linalg.linear_operator) with graph_parents is deprecated and will be removed in a future version.\n",
      "Instructions for updating:\n",
      "Do not pass `graph_parents`.  They will  no longer be used.\n",
      "WARNING:tensorflow:From /Applications/anaconda3/lib/python3.7/site-packages/tensorflow_probability/python/distributions/linear_gaussian_ssm.py:467: LinearGaussianStateSpaceModel._initial_step_deprecated_behavior (from tensorflow_probability.python.distributions.linear_gaussian_ssm) is deprecated and will be removed after 2020-02-01.\n",
      "Instructions for updating:\n",
      "Previously, `initial_step` would return the value passed to the constructor, even if that value was not `Tensor`-like. This behavior is now deprecated. In the future, it will always return a `Tensor`-like object.\n",
      "WARNING:tensorflow:From /Applications/anaconda3/lib/python3.7/site-packages/tensorflow_probability/python/math/minimize.py:77: calling <lambda> (from tensorflow_probability.python.vi.optimization) with loss is deprecated and will be removed after 2020-07-01.\n",
      "Instructions for updating:\n",
      "The signature for `trace_fn`s passed to `minimize` has changed. Trace functions now take a single `traceable_quantities` argument, which is a `tfp.math.MinimizeTraceableQuantities` namedtuple containing `traceable_quantities.loss`, `traceable_quantities.gradients`, etc. Please update your `trace_fn` definition.\n"
     ]
    }
   ],
   "source": [
    "#predict 3 months ahead -- Time series\n",
    "model = models.BTSM()\n",
    "model.fit(df['count_sale'].values.astype(float),0)\n",
    "pred_ts, pred_ts_scale, pred_ts_samples = model.predict(np.ones(3))"
   ]
  },
  {
   "cell_type": "markdown",
   "metadata": {},
   "source": [
    "### 2.3 predict 3 months ahead -- linear combination"
   ]
  },
  {
   "cell_type": "code",
   "execution_count": 8,
   "metadata": {
    "scrolled": false
   },
   "outputs": [
    {
     "name": "stdout",
     "output_type": "stream",
     "text": [
      "[7971.28543761 6924.11064937 6859.90819297]\n"
     ]
    }
   ],
   "source": [
    "#combine the two prediciton\n",
    "#params may differ in different market\n",
    "params = [0.6,0.4]\n",
    "pred_com = params[0]*np.array(pred)+params[1]*pred_ts\n",
    "pred_com_scale = params[0]*pred_scale+params[1]*pred_ts_scale\n",
    "\n",
    "print(pred_com)"
   ]
  },
  {
   "cell_type": "markdown",
   "metadata": {},
   "source": [
    "### 2.4 predict 6 months ahead  -- number of sales"
   ]
  },
  {
   "cell_type": "code",
   "execution_count": 9,
   "metadata": {
    "scrolled": true
   },
   "outputs": [
    {
     "name": "stdout",
     "output_type": "stream",
     "text": [
      "<models.linearModel object at 0x7f874e623250>\n",
      "<models.linearModel object at 0x7f874e623690>\n",
      "<models.linearModel object at 0x7f873a066a10>\n"
     ]
    }
   ],
   "source": [
    "#predict 6 months ahead\n",
    "model = models.rollingCombinedModel(df=df,predict_horizon_total=6, predict_horizon=3,\n",
    "                                    feature_column_names = feature_column_names,\n",
    "                                   target_column = target_col, modelName='linear',\n",
    "                                   lead_target=True)"
   ]
  },
  {
   "cell_type": "code",
   "execution_count": 10,
   "metadata": {},
   "outputs": [
    {
     "name": "stdout",
     "output_type": "stream",
     "text": [
      "prediction_horizon 1\n"
     ]
    },
    {
     "name": "stderr",
     "output_type": "stream",
     "text": [
      "/Applications/anaconda3/lib/python3.7/site-packages/sklearn/linear_model/_coordinate_descent.py:476: ConvergenceWarning: Objective did not converge. You might want to increase the number of iterations. Duality gap: 4389.9151906662155, tolerance: 2238.5481609756093\n",
      "  positive)\n",
      "/Applications/anaconda3/lib/python3.7/site-packages/sklearn/linear_model/_coordinate_descent.py:476: ConvergenceWarning: Objective did not converge. You might want to increase the number of iterations. Duality gap: 3285.174859775172, tolerance: 3281.0226774999996\n",
      "  positive)\n",
      "/Applications/anaconda3/lib/python3.7/site-packages/sklearn/linear_model/_coordinate_descent.py:476: ConvergenceWarning: Objective did not converge. You might want to increase the number of iterations. Duality gap: 3594.0643464768364, tolerance: 3281.0226774999996\n",
      "  positive)\n",
      "/Applications/anaconda3/lib/python3.7/site-packages/sklearn/linear_model/_coordinate_descent.py:476: ConvergenceWarning: Objective did not converge. You might want to increase the number of iterations. Duality gap: 30292.051158964034, tolerance: 4395.550603921569\n",
      "  positive)\n",
      "/Applications/anaconda3/lib/python3.7/site-packages/sklearn/linear_model/_coordinate_descent.py:476: ConvergenceWarning: Objective did not converge. You might want to increase the number of iterations. Duality gap: 3732.912795234428, tolerance: 3583.202443902439\n",
      "  positive)\n",
      "/Applications/anaconda3/lib/python3.7/site-packages/sklearn/linear_model/_coordinate_descent.py:476: ConvergenceWarning: Objective did not converge. You might want to increase the number of iterations. Duality gap: 3852.613726707037, tolerance: 3583.202443902439\n",
      "  positive)\n",
      "/Applications/anaconda3/lib/python3.7/site-packages/sklearn/linear_model/_coordinate_descent.py:476: ConvergenceWarning: Objective did not converge. You might want to increase the number of iterations. Duality gap: 13810.514120855587, tolerance: 3088.442733333333\n",
      "  positive)\n",
      "/Applications/anaconda3/lib/python3.7/site-packages/sklearn/linear_model/_coordinate_descent.py:476: ConvergenceWarning: Objective did not converge. You might want to increase the number of iterations. Duality gap: 2333.1025100771676, tolerance: 2218.1514775000005\n",
      "  positive)\n",
      "/Applications/anaconda3/lib/python3.7/site-packages/sklearn/linear_model/_coordinate_descent.py:476: ConvergenceWarning: Objective did not converge. You might want to increase the number of iterations. Duality gap: 21818.7661677929, tolerance: 4204.069215686274\n",
      "  positive)\n",
      "/Applications/anaconda3/lib/python3.7/site-packages/sklearn/linear_model/_coordinate_descent.py:476: ConvergenceWarning: Objective did not converge. You might want to increase the number of iterations. Duality gap: 4058.213635137654, tolerance: 3723.542510000001\n",
      "  positive)\n",
      "/Applications/anaconda3/lib/python3.7/site-packages/sklearn/linear_model/_coordinate_descent.py:476: ConvergenceWarning: Objective did not converge. You might want to increase the number of iterations. Duality gap: 4695.560231325449, tolerance: 3723.542510000001\n",
      "  positive)\n",
      "/Applications/anaconda3/lib/python3.7/site-packages/sklearn/linear_model/_coordinate_descent.py:476: ConvergenceWarning: Objective did not converge. You might want to increase the number of iterations. Duality gap: 4843.095403183543, tolerance: 3723.542510000001\n",
      "  positive)\n",
      "/Applications/anaconda3/lib/python3.7/site-packages/sklearn/linear_model/_coordinate_descent.py:476: ConvergenceWarning: Objective did not converge. You might want to increase the number of iterations. Duality gap: 11274.018570583445, tolerance: 4372.960168627451\n",
      "  positive)\n",
      "/Applications/anaconda3/lib/python3.7/site-packages/sklearn/linear_model/_coordinate_descent.py:476: ConvergenceWarning: Objective did not converge. You might want to increase the number of iterations. Duality gap: 7340.617032622584, tolerance: 3565.14245882353\n",
      "  positive)\n",
      "/Applications/anaconda3/lib/python3.7/site-packages/sklearn/linear_model/_coordinate_descent.py:476: ConvergenceWarning: Objective did not converge. You might want to increase the number of iterations. Duality gap: 14398.234069694008, tolerance: 4541.255741176471\n",
      "  positive)\n",
      "/Applications/anaconda3/lib/python3.7/site-packages/sklearn/linear_model/_coordinate_descent.py:476: ConvergenceWarning: Objective did not converge. You might want to increase the number of iterations. Duality gap: 19759.998350399186, tolerance: 4694.423933333334\n",
      "  positive)\n"
     ]
    },
    {
     "name": "stdout",
     "output_type": "stream",
     "text": [
      "prediction_horizon 2\n"
     ]
    },
    {
     "name": "stderr",
     "output_type": "stream",
     "text": [
      "/Applications/anaconda3/lib/python3.7/site-packages/sklearn/linear_model/_coordinate_descent.py:476: ConvergenceWarning: Objective did not converge. You might want to increase the number of iterations. Duality gap: 44521.90546792423, tolerance: 7396.906642000002\n",
      "  positive)\n",
      "/Applications/anaconda3/lib/python3.7/site-packages/sklearn/linear_model/_coordinate_descent.py:476: ConvergenceWarning: Objective did not converge. You might want to increase the number of iterations. Duality gap: 15568.3840862955, tolerance: 9816.324088\n",
      "  positive)\n",
      "/Applications/anaconda3/lib/python3.7/site-packages/sklearn/linear_model/_coordinate_descent.py:476: ConvergenceWarning: Objective did not converge. You might want to increase the number of iterations. Duality gap: 70368.37667923032, tolerance: 11593.233408\n",
      "  positive)\n",
      "/Applications/anaconda3/lib/python3.7/site-packages/sklearn/linear_model/_coordinate_descent.py:476: ConvergenceWarning: Objective did not converge. You might want to increase the number of iterations. Duality gap: 34873.99862967098, tolerance: 9078.989978000001\n",
      "  positive)\n",
      "/Applications/anaconda3/lib/python3.7/site-packages/sklearn/linear_model/_coordinate_descent.py:476: ConvergenceWarning: Objective did not converge. You might want to increase the number of iterations. Duality gap: 30747.418026044674, tolerance: 7092.409250000001\n",
      "  positive)\n",
      "/Applications/anaconda3/lib/python3.7/site-packages/sklearn/linear_model/_coordinate_descent.py:476: ConvergenceWarning: Objective did not converge. You might want to increase the number of iterations. Duality gap: 27777.421901331287, tolerance: 8235.4648\n",
      "  positive)\n",
      "/Applications/anaconda3/lib/python3.7/site-packages/sklearn/linear_model/_coordinate_descent.py:476: ConvergenceWarning: Objective did not converge. You might want to increase the number of iterations. Duality gap: 50193.85972474499, tolerance: 11662.917442000002\n",
      "  positive)\n",
      "/Applications/anaconda3/lib/python3.7/site-packages/sklearn/linear_model/_coordinate_descent.py:476: ConvergenceWarning: Objective did not converge. You might want to increase the number of iterations. Duality gap: 26784.822691572946, tolerance: 11663.539442000001\n",
      "  positive)\n",
      "/Applications/anaconda3/lib/python3.7/site-packages/sklearn/linear_model/_coordinate_descent.py:476: ConvergenceWarning: Objective did not converge. You might want to increase the number of iterations. Duality gap: 81810.42960325042, tolerance: 10278.423658\n",
      "  positive)\n",
      "/Applications/anaconda3/lib/python3.7/site-packages/sklearn/linear_model/_coordinate_descent.py:476: ConvergenceWarning: Objective did not converge. You might want to increase the number of iterations. Duality gap: 17171.388317478413, tolerance: 7830.8160419999995\n",
      "  positive)\n",
      "/Applications/anaconda3/lib/python3.7/site-packages/sklearn/linear_model/_coordinate_descent.py:476: ConvergenceWarning: Objective did not converge. You might want to increase the number of iterations. Duality gap: 22077.37241395726, tolerance: 9849.388257999999\n",
      "  positive)\n",
      "/Applications/anaconda3/lib/python3.7/site-packages/sklearn/linear_model/_coordinate_descent.py:476: ConvergenceWarning: Objective did not converge. You might want to increase the number of iterations. Duality gap: 31048.915011687004, tolerance: 13431.750898\n",
      "  positive)\n",
      "/Applications/anaconda3/lib/python3.7/site-packages/sklearn/linear_model/_coordinate_descent.py:476: ConvergenceWarning: Objective did not converge. You might want to increase the number of iterations. Duality gap: 33097.02129865789, tolerance: 8312.827600000002\n",
      "  positive)\n",
      "/Applications/anaconda3/lib/python3.7/site-packages/sklearn/linear_model/_coordinate_descent.py:476: ConvergenceWarning: Objective did not converge. You might want to increase the number of iterations. Duality gap: 31070.746589988586, tolerance: 8839.845778\n",
      "  positive)\n",
      "/Applications/anaconda3/lib/python3.7/site-packages/sklearn/linear_model/_coordinate_descent.py:476: ConvergenceWarning: Objective did not converge. You might want to increase the number of iterations. Duality gap: 21594.31360620646, tolerance: 8406.87285\n",
      "  positive)\n",
      "/Applications/anaconda3/lib/python3.7/site-packages/sklearn/linear_model/_coordinate_descent.py:476: ConvergenceWarning: Objective did not converge. You might want to increase the number of iterations. Duality gap: 36270.1864523075, tolerance: 8305.820402000001\n",
      "  positive)\n",
      "/Applications/anaconda3/lib/python3.7/site-packages/sklearn/linear_model/_coordinate_descent.py:476: ConvergenceWarning: Objective did not converge. You might want to increase the number of iterations. Duality gap: 36529.53991697298, tolerance: 10575.413592000003\n",
      "  positive)\n"
     ]
    },
    {
     "name": "stdout",
     "output_type": "stream",
     "text": [
      "prediction_horizon 3\n"
     ]
    },
    {
     "name": "stderr",
     "output_type": "stream",
     "text": [
      "/Applications/anaconda3/lib/python3.7/site-packages/sklearn/linear_model/_coordinate_descent.py:476: ConvergenceWarning: Objective did not converge. You might want to increase the number of iterations. Duality gap: 39315.710434666864, tolerance: 15362.83278367347\n",
      "  positive)\n",
      "/Applications/anaconda3/lib/python3.7/site-packages/sklearn/linear_model/_coordinate_descent.py:476: ConvergenceWarning: Objective did not converge. You might want to increase the number of iterations. Duality gap: 67250.33415692172, tolerance: 16155.605281632654\n",
      "  positive)\n",
      "/Applications/anaconda3/lib/python3.7/site-packages/sklearn/linear_model/_coordinate_descent.py:476: ConvergenceWarning: Objective did not converge. You might want to increase the number of iterations. Duality gap: 13560.138692542445, tolerance: 12548.153974358975\n",
      "  positive)\n",
      "/Applications/anaconda3/lib/python3.7/site-packages/sklearn/linear_model/_coordinate_descent.py:476: ConvergenceWarning: Objective did not converge. You might want to increase the number of iterations. Duality gap: 80548.6249142978, tolerance: 16500.002395918367\n",
      "  positive)\n",
      "/Applications/anaconda3/lib/python3.7/site-packages/sklearn/linear_model/_coordinate_descent.py:476: ConvergenceWarning: Objective did not converge. You might want to increase the number of iterations. Duality gap: 10349.991782966186, tolerance: 9893.955635897437\n",
      "  positive)\n",
      "/Applications/anaconda3/lib/python3.7/site-packages/sklearn/linear_model/_coordinate_descent.py:476: ConvergenceWarning: Objective did not converge. You might want to increase the number of iterations. Duality gap: 80953.1205491184, tolerance: 16834.23670612245\n",
      "  positive)\n",
      "/Applications/anaconda3/lib/python3.7/site-packages/sklearn/linear_model/_coordinate_descent.py:476: ConvergenceWarning: Objective did not converge. You might want to increase the number of iterations. Duality gap: 37081.06925889969, tolerance: 15666.45584897959\n",
      "  positive)\n",
      "/Applications/anaconda3/lib/python3.7/site-packages/sklearn/linear_model/_coordinate_descent.py:476: ConvergenceWarning: Objective did not converge. You might want to increase the number of iterations. Duality gap: 48647.563662084234, tolerance: 12939.444126530612\n",
      "  positive)\n",
      "/Applications/anaconda3/lib/python3.7/site-packages/sklearn/linear_model/_coordinate_descent.py:476: ConvergenceWarning: Objective did not converge. You might want to increase the number of iterations. Duality gap: 40746.60586087935, tolerance: 10419.477110204083\n",
      "  positive)\n",
      "/Applications/anaconda3/lib/python3.7/site-packages/sklearn/linear_model/_coordinate_descent.py:476: ConvergenceWarning: Objective did not converge. You might want to increase the number of iterations. Duality gap: 90614.53889943172, tolerance: 12139.102200000001\n",
      "  positive)\n",
      "/Applications/anaconda3/lib/python3.7/site-packages/sklearn/linear_model/_coordinate_descent.py:476: ConvergenceWarning: Objective did not converge. You might want to increase the number of iterations. Duality gap: 38268.23568771649, tolerance: 18306.13653877551\n",
      "  positive)\n",
      "/Applications/anaconda3/lib/python3.7/site-packages/sklearn/linear_model/_coordinate_descent.py:476: ConvergenceWarning: Objective did not converge. You might want to increase the number of iterations. Duality gap: 21541.49064535633, tolerance: 16077.9600122449\n",
      "  positive)\n"
     ]
    }
   ],
   "source": [
    "pred6_sale, pred6_scale_sale, pred6_samples_sale = model.make_prediction(df[feature_column_names], df[target_col])"
   ]
  },
  {
   "cell_type": "code",
   "execution_count": 11,
   "metadata": {},
   "outputs": [
    {
     "data": {
      "text/plain": [
       "(50, 6)"
      ]
     },
     "execution_count": 11,
     "metadata": {},
     "output_type": "execute_result"
    }
   ],
   "source": [
    "pred6_samples_sale.shape"
   ]
  },
  {
   "cell_type": "markdown",
   "metadata": {},
   "source": [
    "### 2.5 predict 6 months ahead  -- number of new listings"
   ]
  },
  {
   "cell_type": "code",
   "execution_count": 12,
   "metadata": {},
   "outputs": [
    {
     "name": "stdout",
     "output_type": "stream",
     "text": [
      "<models.linearModel object at 0x7f87486d8410>\n",
      "<models.linearModel object at 0x7f8735c5af10>\n",
      "<models.linearModel object at 0x7f873a243090>\n"
     ]
    }
   ],
   "source": [
    "target_col = 'count_list'\n",
    "#predict 6 months ahead\n",
    "model = models.rollingCombinedModel(df=df,predict_horizon_total=6, predict_horizon=3,\n",
    "                                    feature_column_names = feature_column_names,\n",
    "                                   target_column = target_col, modelName='linear',\n",
    "                                   lead_target=True)"
   ]
  },
  {
   "cell_type": "code",
   "execution_count": 13,
   "metadata": {
    "scrolled": true
   },
   "outputs": [
    {
     "name": "stdout",
     "output_type": "stream",
     "text": [
      "prediction_horizon 1\n"
     ]
    },
    {
     "name": "stderr",
     "output_type": "stream",
     "text": [
      "/Applications/anaconda3/lib/python3.7/site-packages/sklearn/linear_model/_coordinate_descent.py:476: ConvergenceWarning: Objective did not converge. You might want to increase the number of iterations. Duality gap: 223433.21180786405, tolerance: 82108.53887058824\n",
      "  positive)\n",
      "/Applications/anaconda3/lib/python3.7/site-packages/sklearn/linear_model/_coordinate_descent.py:476: ConvergenceWarning: Objective did not converge. You might want to increase the number of iterations. Duality gap: 62138.95745683196, tolerance: 14629.323392156866\n",
      "  positive)\n",
      "/Applications/anaconda3/lib/python3.7/site-packages/sklearn/linear_model/_coordinate_descent.py:476: ConvergenceWarning: Objective did not converge. You might want to increase the number of iterations. Duality gap: 105590.28419403732, tolerance: 74051.05392941176\n",
      "  positive)\n",
      "/Applications/anaconda3/lib/python3.7/site-packages/sklearn/linear_model/_coordinate_descent.py:476: ConvergenceWarning: Objective did not converge. You might want to increase the number of iterations. Duality gap: 128196.61655952729, tolerance: 41726.29187058824\n",
      "  positive)\n",
      "/Applications/anaconda3/lib/python3.7/site-packages/sklearn/linear_model/_coordinate_descent.py:476: ConvergenceWarning: Objective did not converge. You might want to increase the number of iterations. Duality gap: 351117.34964426514, tolerance: 62747.08656862744\n",
      "  positive)\n",
      "/Applications/anaconda3/lib/python3.7/site-packages/sklearn/linear_model/_coordinate_descent.py:476: ConvergenceWarning: Objective did not converge. You might want to increase the number of iterations. Duality gap: 63799.05234428332, tolerance: 37944.08987450982\n",
      "  positive)\n",
      "/Applications/anaconda3/lib/python3.7/site-packages/sklearn/linear_model/_coordinate_descent.py:476: ConvergenceWarning: Objective did not converge. You might want to increase the number of iterations. Duality gap: 257213.18285718618, tolerance: 49853.211368627446\n",
      "  positive)\n",
      "/Applications/anaconda3/lib/python3.7/site-packages/sklearn/linear_model/_coordinate_descent.py:476: ConvergenceWarning: Objective did not converge. You might want to increase the number of iterations. Duality gap: 53136.25033425866, tolerance: 47683.51930243903\n",
      "  positive)\n",
      "/Applications/anaconda3/lib/python3.7/site-packages/sklearn/linear_model/_coordinate_descent.py:476: ConvergenceWarning: Objective did not converge. You might want to increase the number of iterations. Duality gap: 34388.91165641125, tolerance: 20608.98304390244\n",
      "  positive)\n",
      "/Applications/anaconda3/lib/python3.7/site-packages/sklearn/linear_model/_coordinate_descent.py:476: ConvergenceWarning: Objective did not converge. You might want to increase the number of iterations. Duality gap: 31257.669698835118, tolerance: 20608.98304390244\n",
      "  positive)\n",
      "/Applications/anaconda3/lib/python3.7/site-packages/sklearn/linear_model/_coordinate_descent.py:476: ConvergenceWarning: Objective did not converge. You might want to increase the number of iterations. Duality gap: 50531.953111473005, tolerance: 37851.51779512195\n",
      "  positive)\n",
      "/Applications/anaconda3/lib/python3.7/site-packages/sklearn/linear_model/_coordinate_descent.py:476: ConvergenceWarning: Objective did not converge. You might want to increase the number of iterations. Duality gap: 614744.2970163117, tolerance: 102490.41336862744\n",
      "  positive)\n",
      "/Applications/anaconda3/lib/python3.7/site-packages/sklearn/linear_model/_coordinate_descent.py:476: ConvergenceWarning: Objective did not converge. You might want to increase the number of iterations. Duality gap: 44042.15781898983, tolerance: 37474.213819512195\n",
      "  positive)\n",
      "/Applications/anaconda3/lib/python3.7/site-packages/sklearn/linear_model/_coordinate_descent.py:476: ConvergenceWarning: Objective did not converge. You might want to increase the number of iterations. Duality gap: 62654.078837607245, tolerance: 20327.8768627451\n",
      "  positive)\n",
      "/Applications/anaconda3/lib/python3.7/site-packages/sklearn/linear_model/_coordinate_descent.py:476: ConvergenceWarning: Objective did not converge. You might want to increase the number of iterations. Duality gap: 34422.45570791024, tolerance: 29748.842580487806\n",
      "  positive)\n",
      "/Applications/anaconda3/lib/python3.7/site-packages/sklearn/linear_model/_coordinate_descent.py:476: ConvergenceWarning: Objective did not converge. You might want to increase the number of iterations. Duality gap: 97041.00217045097, tolerance: 32445.93751764706\n",
      "  positive)\n",
      "/Applications/anaconda3/lib/python3.7/site-packages/sklearn/linear_model/_coordinate_descent.py:476: ConvergenceWarning: Objective did not converge. You might want to increase the number of iterations. Duality gap: 26439.557047615293, tolerance: 21310.236874509807\n",
      "  positive)\n",
      "/Applications/anaconda3/lib/python3.7/site-packages/sklearn/linear_model/_coordinate_descent.py:476: ConvergenceWarning: Objective did not converge. You might want to increase the number of iterations. Duality gap: 41194.116122362204, tolerance: 39350.16155609757\n",
      "  positive)\n",
      "/Applications/anaconda3/lib/python3.7/site-packages/sklearn/linear_model/_coordinate_descent.py:476: ConvergenceWarning: Objective did not converge. You might want to increase the number of iterations. Duality gap: 49613.39635118842, tolerance: 39350.16155609757\n",
      "  positive)\n",
      "/Applications/anaconda3/lib/python3.7/site-packages/sklearn/linear_model/_coordinate_descent.py:476: ConvergenceWarning: Objective did not converge. You might want to increase the number of iterations. Duality gap: 56617.032140748575, tolerance: 39350.16155609757\n",
      "  positive)\n",
      "/Applications/anaconda3/lib/python3.7/site-packages/sklearn/linear_model/_coordinate_descent.py:476: ConvergenceWarning: Objective did not converge. You might want to increase the number of iterations. Duality gap: 43267.502209694125, tolerance: 39350.16155609757\n",
      "  positive)\n",
      "/Applications/anaconda3/lib/python3.7/site-packages/sklearn/linear_model/_coordinate_descent.py:476: ConvergenceWarning: Objective did not converge. You might want to increase the number of iterations. Duality gap: 47539.43575587869, tolerance: 31987.088643902447\n",
      "  positive)\n",
      "/Applications/anaconda3/lib/python3.7/site-packages/sklearn/linear_model/_coordinate_descent.py:476: ConvergenceWarning: Objective did not converge. You might want to increase the number of iterations. Duality gap: 32953.49870687723, tolerance: 31987.088643902447\n",
      "  positive)\n",
      "/Applications/anaconda3/lib/python3.7/site-packages/sklearn/linear_model/_coordinate_descent.py:476: ConvergenceWarning: Objective did not converge. You might want to increase the number of iterations. Duality gap: 51919.836517870426, tolerance: 41102.30027804879\n",
      "  positive)\n",
      "/Applications/anaconda3/lib/python3.7/site-packages/sklearn/linear_model/_coordinate_descent.py:476: ConvergenceWarning: Objective did not converge. You might want to increase the number of iterations. Duality gap: 43412.96191881038, tolerance: 41102.30027804879\n",
      "  positive)\n"
     ]
    },
    {
     "name": "stdout",
     "output_type": "stream",
     "text": [
      "prediction_horizon 2\n"
     ]
    },
    {
     "name": "stderr",
     "output_type": "stream",
     "text": [
      "/Applications/anaconda3/lib/python3.7/site-packages/sklearn/linear_model/_coordinate_descent.py:476: ConvergenceWarning: Objective did not converge. You might want to increase the number of iterations. Duality gap: 155604.1610793426, tolerance: 85774.262528\n",
      "  positive)\n",
      "/Applications/anaconda3/lib/python3.7/site-packages/sklearn/linear_model/_coordinate_descent.py:476: ConvergenceWarning: Objective did not converge. You might want to increase the number of iterations. Duality gap: 105859.38223008439, tolerance: 81853.78061799999\n",
      "  positive)\n",
      "/Applications/anaconda3/lib/python3.7/site-packages/sklearn/linear_model/_coordinate_descent.py:476: ConvergenceWarning: Objective did not converge. You might want to increase the number of iterations. Duality gap: 115832.11858376255, tolerance: 111971.40128800002\n",
      "  positive)\n",
      "/Applications/anaconda3/lib/python3.7/site-packages/sklearn/linear_model/_coordinate_descent.py:476: ConvergenceWarning: Objective did not converge. You might want to increase the number of iterations. Duality gap: 93676.22142524738, tolerance: 66461.4940375\n",
      "  positive)\n"
     ]
    },
    {
     "name": "stdout",
     "output_type": "stream",
     "text": [
      "prediction_horizon 3\n"
     ]
    },
    {
     "name": "stderr",
     "output_type": "stream",
     "text": [
      "/Applications/anaconda3/lib/python3.7/site-packages/sklearn/linear_model/_coordinate_descent.py:476: ConvergenceWarning: Objective did not converge. You might want to increase the number of iterations. Duality gap: 416461.8348760995, tolerance: 136381.44460000002\n",
      "  positive)\n",
      "/Applications/anaconda3/lib/python3.7/site-packages/sklearn/linear_model/_coordinate_descent.py:476: ConvergenceWarning: Objective did not converge. You might want to increase the number of iterations. Duality gap: 415846.6691584666, tolerance: 77088.12519183675\n",
      "  positive)\n",
      "/Applications/anaconda3/lib/python3.7/site-packages/sklearn/linear_model/_coordinate_descent.py:476: ConvergenceWarning: Objective did not converge. You might want to increase the number of iterations. Duality gap: 348159.39816157677, tolerance: 88155.38609795918\n",
      "  positive)\n",
      "/Applications/anaconda3/lib/python3.7/site-packages/sklearn/linear_model/_coordinate_descent.py:476: ConvergenceWarning: Objective did not converge. You might want to increase the number of iterations. Duality gap: 62478.45305505366, tolerance: 58214.78989743592\n",
      "  positive)\n",
      "/Applications/anaconda3/lib/python3.7/site-packages/sklearn/linear_model/_coordinate_descent.py:476: ConvergenceWarning: Objective did not converge. You might want to increase the number of iterations. Duality gap: 219075.9185429861, tolerance: 86231.49633469387\n",
      "  positive)\n",
      "/Applications/anaconda3/lib/python3.7/site-packages/sklearn/linear_model/_coordinate_descent.py:476: ConvergenceWarning: Objective did not converge. You might want to increase the number of iterations. Duality gap: 795014.915868023, tolerance: 115265.69858367348\n",
      "  positive)\n",
      "/Applications/anaconda3/lib/python3.7/site-packages/sklearn/linear_model/_coordinate_descent.py:476: ConvergenceWarning: Objective did not converge. You might want to increase the number of iterations. Duality gap: 290549.7591605669, tolerance: 105833.57816326532\n",
      "  positive)\n",
      "/Applications/anaconda3/lib/python3.7/site-packages/sklearn/linear_model/_coordinate_descent.py:476: ConvergenceWarning: Objective did not converge. You might want to increase the number of iterations. Duality gap: 103484.82107512094, tolerance: 88903.36974358973\n",
      "  positive)\n",
      "/Applications/anaconda3/lib/python3.7/site-packages/sklearn/linear_model/_coordinate_descent.py:476: ConvergenceWarning: Objective did not converge. You might want to increase the number of iterations. Duality gap: 369099.613680348, tolerance: 115982.5467346939\n",
      "  positive)\n",
      "/Applications/anaconda3/lib/python3.7/site-packages/sklearn/linear_model/_coordinate_descent.py:476: ConvergenceWarning: Objective did not converge. You might want to increase the number of iterations. Duality gap: 725554.3037294094, tolerance: 154388.4041959184\n",
      "  positive)\n",
      "/Applications/anaconda3/lib/python3.7/site-packages/sklearn/linear_model/_coordinate_descent.py:476: ConvergenceWarning: Objective did not converge. You might want to increase the number of iterations. Duality gap: 466214.73146521946, tolerance: 133781.41238367348\n",
      "  positive)\n",
      "/Applications/anaconda3/lib/python3.7/site-packages/sklearn/linear_model/_coordinate_descent.py:476: ConvergenceWarning: Objective did not converge. You might want to increase the number of iterations. Duality gap: 173297.2549058485, tolerance: 107109.06404081633\n",
      "  positive)\n",
      "/Applications/anaconda3/lib/python3.7/site-packages/sklearn/linear_model/_coordinate_descent.py:476: ConvergenceWarning: Objective did not converge. You might want to increase the number of iterations. Duality gap: 285689.6617193651, tolerance: 79666.25445306122\n",
      "  positive)\n"
     ]
    }
   ],
   "source": [
    "pred6_listing, pred6_scale_listing, pred6_samples_listing = model.make_prediction(df[feature_column_names], df[target_col])"
   ]
  },
  {
   "cell_type": "code",
   "execution_count": 14,
   "metadata": {},
   "outputs": [
    {
     "data": {
      "text/plain": [
       "(50, 6)"
      ]
     },
     "execution_count": 14,
     "metadata": {},
     "output_type": "execute_result"
    }
   ],
   "source": [
    "pred6_samples_listing.shape"
   ]
  },
  {
   "cell_type": "markdown",
   "metadata": {},
   "source": [
    "### Step 3: Save the prediction samples for further use"
   ]
  },
  {
   "cell_type": "code",
   "execution_count": 15,
   "metadata": {},
   "outputs": [],
   "source": [
    "for i in range(6):\n",
    "    save = pd.DataFrame(columns=['number of sales', 'number of listings'])\n",
    "    save['number of sales'] = pred6_samples_sale[:,i]\n",
    "    save['number of listings'] = pred6_samples_listing[:,i]\n",
    "    save.to_csv(data_dir+'model_forecast/'+str(i+1)+'_month_overall_forecast_samples.csv')"
   ]
  },
  {
   "cell_type": "code",
   "execution_count": null,
   "metadata": {},
   "outputs": [],
   "source": []
  }
 ],
 "metadata": {
  "kernelspec": {
   "display_name": "Python 3",
   "language": "python",
   "name": "python3"
  },
  "language_info": {
   "codemirror_mode": {
    "name": "ipython",
    "version": 3
   },
   "file_extension": ".py",
   "mimetype": "text/x-python",
   "name": "python",
   "nbconvert_exporter": "python",
   "pygments_lexer": "ipython3",
   "version": "3.7.4"
  }
 },
 "nbformat": 4,
 "nbformat_minor": 4
}
