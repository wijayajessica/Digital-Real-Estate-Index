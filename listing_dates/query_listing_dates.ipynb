{
 "cells": [
  {
   "cell_type": "code",
   "execution_count": 1,
   "metadata": {},
   "outputs": [],
   "source": [
    "import datetime\n",
    "import json\n",
    "\n",
    "import matplotlib.pyplot as plt\n",
    "import numpy as np\n",
    "import pandas as pd\n",
    "from rexsettings.settings import postgres_sequoia_db_uri, postgres_third_party_db_uri\n",
    "import sqlalchemy as sa\n",
    "import sqlalchemy.orm as orm"
   ]
  },
  {
   "cell_type": "code",
   "execution_count": 2,
   "metadata": {},
   "outputs": [],
   "source": [
    "rex_market_area_name = 'Boston'\n",
    "data_dir = 'index-team-data'"
   ]
  },
  {
   "cell_type": "code",
   "execution_count": 3,
   "metadata": {},
   "outputs": [],
   "source": [
    "market_area_name = rex_market_area_name.lower().replace(' ', '_').replace('-', '_')\n",
    "data_path = f'../{data_dir}/{market_area_name}'"
   ]
  },
  {
   "cell_type": "code",
   "execution_count": 4,
   "metadata": {},
   "outputs": [],
   "source": [
    "sequoia_engine = sa.create_engine(postgres_sequoia_db_uri())\n",
    "third_party_engine = sa.create_engine(postgres_third_party_db_uri())\n",
    "sequoia_meta = sa.MetaData(bind=sequoia_engine)\n",
    "third_party_meta = sa.MetaData(bind=third_party_engine)"
   ]
  },
  {
   "cell_type": "code",
   "execution_count": 5,
   "metadata": {},
   "outputs": [],
   "source": [
    "sequoia_session = orm.sessionmaker(bind=sequoia_engine)()\n",
    "third_party_session = orm.sessionmaker(bind=third_party_engine)()"
   ]
  },
  {
   "cell_type": "code",
   "execution_count": 6,
   "metadata": {},
   "outputs": [],
   "source": [
    "table_name_to_info = {'listing': (sequoia_meta, 'rexdb'),\n",
    "                      'market_area_lookup': (sequoia_meta, 'location'),\n",
    "                      'property': (third_party_meta, 'mls')}"
   ]
  },
  {
   "cell_type": "code",
   "execution_count": 7,
   "metadata": {},
   "outputs": [],
   "source": [
    "def get_table(table_name):\n",
    "    info = table_name_to_info[table_name]\n",
    "    return sa.Table(table_name, info[0], schema=info[1], autoload=True)"
   ]
  },
  {
   "cell_type": "code",
   "execution_count": 8,
   "metadata": {},
   "outputs": [
    {
     "name": "stderr",
     "output_type": "stream",
     "text": [
      "/Users/wfried/anaconda3/envs/digital_index/lib/python3.8/site-packages/sqlalchemy/dialects/postgresql/base.py:3185: SAWarning: Did not recognize type 'geometry' of column 'geo_point'\n",
      "  util.warn(\n",
      "/Users/wfried/anaconda3/envs/digital_index/lib/python3.8/site-packages/sqlalchemy/dialects/postgresql/base.py:3515: SAWarning: Skipped unsupported reflection of expression-based index property__geo_point__idx\n",
      "  util.warn(\n"
     ]
    }
   ],
   "source": [
    "lstg = get_table('listing')\n",
    "market_area_lookup = get_table('market_area_lookup')\n",
    "mls_property = get_table('property')\n",
    "mls_listing = sa.Table('listing', third_party_meta, schema='mls', autoload=True)"
   ]
  },
  {
   "cell_type": "code",
   "execution_count": 9,
   "metadata": {},
   "outputs": [],
   "source": [
    "# map zipcode to REX market area\n",
    "q = (sequoia_session\n",
    "    .query(market_area_lookup.c.zipcode,\n",
    "           market_area_lookup.c.market_area)\n",
    "    .distinct()\n",
    "    )\n",
    "\n",
    "zipcode_to_market_area = {zipcode: market_area for zipcode, market_area in q}"
   ]
  },
  {
   "cell_type": "code",
   "execution_count": 10,
   "metadata": {},
   "outputs": [],
   "source": [
    "market_area_zipcodes = {zipcode for zipcode, market_area in zipcode_to_market_area.items()\n",
    "                        if market_area == rex_market_area_name}"
   ]
  },
  {
   "cell_type": "code",
   "execution_count": 11,
   "metadata": {},
   "outputs": [],
   "source": [
    "with open(f'{data_path}/zipcodes.txt', 'w') as f:\n",
    "    f.write(json.dumps(list(market_area_zipcodes)))"
   ]
  },
  {
   "cell_type": "code",
   "execution_count": 12,
   "metadata": {},
   "outputs": [],
   "source": [
    "# limit query to months that have been fully observed\n",
    "date_today = datetime.date.today()\n",
    "latest_query_date = date_today.replace(day=1)"
   ]
  },
  {
   "cell_type": "code",
   "execution_count": 13,
   "metadata": {},
   "outputs": [],
   "source": [
    "q = (third_party_session\n",
    "     .query(mls_listing.c.cc_property_id,\n",
    "            mls_property.c.zipcode,\n",
    "            mls_property.c.latitude,\n",
    "            mls_property.c.longitude,\n",
    "            mls_listing.c.original_list_date,\n",
    "            mls_listing.c.sale_date,\n",
    "            mls_listing.c.withdrawn_date,\n",
    "            mls_listing.c.expired_date,\n",
    "            mls_listing.c.cancelled_date,\n",
    "            mls_listing.c.current_status,\n",
    "            mls_listing.c.original_list_price,\n",
    "            mls_listing.c.sale_price)\n",
    "     .join(mls_property, mls_property.c.cc_property_id == mls_listing.c.cc_property_id)\n",
    "     .filter(mls_property.c.zipcode.in_(market_area_zipcodes))\n",
    "     .filter(mls_listing.c.original_list_date < latest_query_date)\n",
    "     .filter(sa.or_(mls_listing.c.sale_date.is_(None), mls_listing.c.sale_date < latest_query_date))\n",
    "     .order_by(mls_listing.c.original_list_date)\n",
    "    )\n",
    "\n",
    "lst = [(prop_id, zipcode, lat, long, list_date, sale_date, withdrawn_date, expired_date, cancelled_date, \n",
    "      current_status, list_price, sale_price)\n",
    "     for prop_id, zipcode, lat, long, list_date, sale_date, withdrawn_date, expired_date, cancelled_date,\n",
    "            current_status, list_price, sale_price in q]"
   ]
  },
  {
   "cell_type": "code",
   "execution_count": 14,
   "metadata": {},
   "outputs": [],
   "source": [
    "columns = ['property_id', 'zipcode', 'latitude', 'longitude', 'list_date', 'sale_date', 'withdrawn_date', \n",
    "           'expired_date', 'cancelled_date', 'current_status', 'list_price', 'sale_price']\n",
    "\n",
    "listing_dates_df = pd.DataFrame(lst, columns=columns)"
   ]
  },
  {
   "cell_type": "code",
   "execution_count": 15,
   "metadata": {},
   "outputs": [],
   "source": [
    "listing_dates_df.to_csv(f'{data_path}/listing_dates.csv', index=False)"
   ]
  },
  {
   "cell_type": "code",
   "execution_count": null,
   "metadata": {},
   "outputs": [],
   "source": []
  }
 ],
 "metadata": {
  "kernelspec": {
   "display_name": "Python 3",
   "language": "python",
   "name": "python3"
  },
  "language_info": {
   "codemirror_mode": {
    "name": "ipython",
    "version": 3
   },
   "file_extension": ".py",
   "mimetype": "text/x-python",
   "name": "python",
   "nbconvert_exporter": "python",
   "pygments_lexer": "ipython3",
   "version": "3.8.6"
  }
 },
 "nbformat": 4,
 "nbformat_minor": 2
}
