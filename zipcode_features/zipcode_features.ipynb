{
 "cells": [
  {
   "cell_type": "code",
   "execution_count": 28,
   "metadata": {},
   "outputs": [],
   "source": [
    "from collections import Counter\n",
    "import json\n",
    "import numpy as np\n",
    "from math import radians\n",
    "import matplotlib.pyplot as plt\n",
    "import pandas as pd\n",
    "import pgeocode\n",
    "from sklearn.linear_model import LinearRegression\n",
    "from sklearn.metrics.pairwise import haversine_distances\n",
    "from uszipcode import SearchEngine"
   ]
  },
  {
   "cell_type": "code",
   "execution_count": 29,
   "metadata": {},
   "outputs": [],
   "source": [
    "pd.set_option('display.max_rows', None)\n",
    "plt.rcParams.update({'font.size': 22})"
   ]
  },
  {
   "cell_type": "code",
   "execution_count": 30,
   "metadata": {},
   "outputs": [],
   "source": [
    "with open('zipcode_to_city_denver.txt', 'r') as f:\n",
    "    zipcode_to_city_denver = json.loads(f.read())\n",
    "    \n",
    "denver_zipcodes = sorted(list(zipcode_to_city_denver))\n",
    "zipcode_to_city_denver = {zipcode: zipcode_to_city_denver[zipcode] for zipcode in denver_zipcodes}"
   ]
  },
  {
   "cell_type": "code",
   "execution_count": 31,
   "metadata": {},
   "outputs": [],
   "source": [
    "# calculate distance from each ZIP code to the center of Denver\n",
    "denver_center = np.array([radians(39.739681), radians(-104.988904)]).reshape(1,-1)\n",
    "\n",
    "us_geocoder = pgeocode.Nominatim('us')\n",
    "geo_info = us_geocoder.query_postal_code(pd.Series(denver_zipcodes).astype(str))\n",
    "geo_info = geo_info[['postal_code', 'latitude', 'longitude']]\n",
    "geo_info['lat_rad'] = geo_info['latitude'].apply(radians)\n",
    "geo_info['lon_rad'] = geo_info['longitude'].apply(radians)\n",
    "# Distances in km\n",
    "distance_matrix = haversine_distances(geo_info[['lat_rad', 'lon_rad']], denver_center) * (6371000 / 1000)"
   ]
  },
  {
   "cell_type": "code",
   "execution_count": 32,
   "metadata": {},
   "outputs": [],
   "source": [
    "# dataframe to store all ZIP code-level features\n",
    "zipcode_feature_df = pd.DataFrame(distance_matrix.flatten(), columns=['distance_to_center_city'], \n",
    "                                  index=denver_zipcodes)"
   ]
  },
  {
   "cell_type": "code",
   "execution_count": 33,
   "metadata": {},
   "outputs": [],
   "source": [
    "zipcode_feature_df['city'] = [x.rstrip() for x in zipcode_to_city_denver.values()]"
   ]
  },
  {
   "cell_type": "code",
   "execution_count": 34,
   "metadata": {},
   "outputs": [],
   "source": [
    "search = SearchEngine(simple_zipcode=True)\n",
    "zipcode_population = [search.by_zipcode(zipcode).population for zipcode in denver_zipcodes]\n",
    "zipcode_feature_df['population'] = zipcode_population"
   ]
  },
  {
   "cell_type": "code",
   "execution_count": 35,
   "metadata": {},
   "outputs": [],
   "source": [
    "# indicators of whether ZIP code is in Denver proper or is in the neighboring cities of Aurora or Lakewood\n",
    "# which are considered to be part of the urban core of the Denver metropolitan area\n",
    "is_in_denver = [int(zipcode_to_city_denver[zipcode] == 'Denver') for zipcode in denver_zipcodes]\n",
    "is_in_neighboring_cities = [int(zipcode_to_city_denver[zipcode] in {'Aurora', 'Lakewood'})\n",
    "                            for zipcode in denver_zipcodes]\n",
    "\n",
    "zipcode_feature_df['in_denver'] = is_in_denver\n",
    "zipcode_feature_df['in_neighboring_cities'] = is_in_neighboring_cities"
   ]
  },
  {
   "cell_type": "code",
   "execution_count": 36,
   "metadata": {},
   "outputs": [],
   "source": [
    "# only consider price reductions that were greater than $1000\n",
    "min_price_reduction = -1000\n",
    "denver_price_change_df = pd.read_csv('denver_price_change.csv')\n",
    "denver_price_change_df['zipcode'] = denver_price_change_df['zipcode'].astype(str)\n",
    "denver_price_change_df = denver_price_change_df[denver_price_change_df.price_change <= min_price_reduction]"
   ]
  },
  {
   "cell_type": "code",
   "execution_count": 37,
   "metadata": {},
   "outputs": [
    {
     "name": "stdout",
     "output_type": "stream",
     "text": [
      "(254076, 4)\n",
      "(94470, 4)\n"
     ]
    }
   ],
   "source": [
    "# don't double count listing that had multiple price reduction \n",
    "print(denver_price_change_df.shape)\n",
    "denver_price_change_df.drop_duplicates(subset='property_id', keep='first', \n",
    "                                       inplace=True)\n",
    "print(denver_price_change_df.shape)"
   ]
  },
  {
   "cell_type": "code",
   "execution_count": 38,
   "metadata": {},
   "outputs": [],
   "source": [
    "zipcode_to_price_reduction_cnt = dict(Counter(denver_price_change_df.zipcode))"
   ]
  },
  {
   "cell_type": "code",
   "execution_count": 39,
   "metadata": {},
   "outputs": [],
   "source": [
    "denver_listing_dates_df = pd.read_csv('denver_listing_dates.csv')\n",
    "denver_listing_dates_df['zipcode'] = denver_listing_dates_df['zipcode'].astype(str)"
   ]
  },
  {
   "cell_type": "code",
   "execution_count": 40,
   "metadata": {},
   "outputs": [
    {
     "data": {
      "text/plain": [
       "(451235, 11)"
      ]
     },
     "execution_count": 40,
     "metadata": {},
     "output_type": "execute_result"
    }
   ],
   "source": [
    "denver_listing_dates_df.shape"
   ]
  },
  {
   "cell_type": "code",
   "execution_count": 41,
   "metadata": {},
   "outputs": [],
   "source": [
    "denver_listing_dates_df_no_dups = denver_listing_dates_df.drop_duplicates(subset='property_id', keep='first')"
   ]
  },
  {
   "cell_type": "code",
   "execution_count": 42,
   "metadata": {},
   "outputs": [],
   "source": [
    "zipcode_to_listing_cnt = dict(Counter(denver_listing_dates_df_no_dups.zipcode))"
   ]
  },
  {
   "cell_type": "code",
   "execution_count": 43,
   "metadata": {},
   "outputs": [],
   "source": [
    "# divide number of listings with price reduction by the total number of listings in ZIP code\n",
    "price_reduction_fractions = [(zipcode_to_price_reduction_cnt.get(zipcode, np.nan) / \n",
    "                              zipcode_to_listing_cnt.get(zipcode, np.nan))\n",
    "                             for zipcode in denver_zipcodes]"
   ]
  },
  {
   "cell_type": "code",
   "execution_count": 44,
   "metadata": {},
   "outputs": [],
   "source": [
    "zipcode_feature_df['price_red_frac'] = price_reduction_fractions"
   ]
  },
  {
   "cell_type": "code",
   "execution_count": 45,
   "metadata": {},
   "outputs": [],
   "source": [
    "denver_listing_dates_df_sold = denver_listing_dates_df[denver_listing_dates_df.sale_price.notna()]"
   ]
  },
  {
   "cell_type": "code",
   "execution_count": 46,
   "metadata": {},
   "outputs": [],
   "source": [
    "# calculate median sale price by ZIP code\n",
    "median_sale_price_df = denver_listing_dates_df_sold.groupby('zipcode').agg({'sale_price': np.median})\n",
    "median_sale_price_df.rename(columns={'sale_price': 'median_sale_price'}, inplace=True)"
   ]
  },
  {
   "cell_type": "code",
   "execution_count": 47,
   "metadata": {},
   "outputs": [],
   "source": [
    "zipcode_feature_df = zipcode_feature_df.merge(median_sale_price_df, how='left', left_index=True, right_index=True)"
   ]
  },
  {
   "cell_type": "code",
   "execution_count": 48,
   "metadata": {},
   "outputs": [],
   "source": [
    "colorado_population_estimates_df = pd.read_csv('colorado_population_estimates.csv', header=3)\n",
    "colorado_population_estimates_df.rename(columns={'Unnamed: 0': 'city'}, inplace=True)"
   ]
  },
  {
   "cell_type": "code",
   "execution_count": 49,
   "metadata": {},
   "outputs": [
    {
     "data": {
      "text/html": [
       "<div>\n",
       "<style scoped>\n",
       "    .dataframe tbody tr th:only-of-type {\n",
       "        vertical-align: middle;\n",
       "    }\n",
       "\n",
       "    .dataframe tbody tr th {\n",
       "        vertical-align: top;\n",
       "    }\n",
       "\n",
       "    .dataframe thead th {\n",
       "        text-align: right;\n",
       "    }\n",
       "</style>\n",
       "<table border=\"1\" class=\"dataframe\">\n",
       "  <thead>\n",
       "    <tr style=\"text-align: right;\">\n",
       "      <th></th>\n",
       "      <th>city</th>\n",
       "      <th>Census</th>\n",
       "      <th>Estimates Base</th>\n",
       "      <th>2010</th>\n",
       "      <th>2011</th>\n",
       "      <th>2012</th>\n",
       "      <th>2013</th>\n",
       "      <th>2014</th>\n",
       "      <th>2015</th>\n",
       "      <th>2016</th>\n",
       "      <th>2017</th>\n",
       "      <th>2018</th>\n",
       "      <th>2019</th>\n",
       "    </tr>\n",
       "  </thead>\n",
       "  <tbody>\n",
       "    <tr>\n",
       "      <th>0</th>\n",
       "      <td>Aguilar town, Colorado</td>\n",
       "      <td>538</td>\n",
       "      <td>537</td>\n",
       "      <td>534</td>\n",
       "      <td>517</td>\n",
       "      <td>512</td>\n",
       "      <td>485</td>\n",
       "      <td>468</td>\n",
       "      <td>468</td>\n",
       "      <td>469</td>\n",
       "      <td>473</td>\n",
       "      <td>482</td>\n",
       "      <td>480</td>\n",
       "    </tr>\n",
       "    <tr>\n",
       "      <th>1</th>\n",
       "      <td>Akron town, Colorado</td>\n",
       "      <td>1,702</td>\n",
       "      <td>1,702</td>\n",
       "      <td>1,705</td>\n",
       "      <td>1,684</td>\n",
       "      <td>1,665</td>\n",
       "      <td>1,677</td>\n",
       "      <td>1,672</td>\n",
       "      <td>1,690</td>\n",
       "      <td>1,705</td>\n",
       "      <td>1,730</td>\n",
       "      <td>1,718</td>\n",
       "      <td>1,723</td>\n",
       "    </tr>\n",
       "    <tr>\n",
       "      <th>2</th>\n",
       "      <td>Alamosa city, Colorado</td>\n",
       "      <td>8,780</td>\n",
       "      <td>8,876</td>\n",
       "      <td>8,917</td>\n",
       "      <td>9,030</td>\n",
       "      <td>9,035</td>\n",
       "      <td>9,109</td>\n",
       "      <td>9,156</td>\n",
       "      <td>9,270</td>\n",
       "      <td>9,361</td>\n",
       "      <td>9,455</td>\n",
       "      <td>9,566</td>\n",
       "      <td>9,591</td>\n",
       "    </tr>\n",
       "    <tr>\n",
       "      <th>3</th>\n",
       "      <td>Alma town, Colorado</td>\n",
       "      <td>270</td>\n",
       "      <td>274</td>\n",
       "      <td>275</td>\n",
       "      <td>272</td>\n",
       "      <td>272</td>\n",
       "      <td>275</td>\n",
       "      <td>280</td>\n",
       "      <td>285</td>\n",
       "      <td>296</td>\n",
       "      <td>304</td>\n",
       "      <td>312</td>\n",
       "      <td>313</td>\n",
       "    </tr>\n",
       "    <tr>\n",
       "      <th>4</th>\n",
       "      <td>Antonito town, Colorado</td>\n",
       "      <td>781</td>\n",
       "      <td>781</td>\n",
       "      <td>786</td>\n",
       "      <td>784</td>\n",
       "      <td>777</td>\n",
       "      <td>770</td>\n",
       "      <td>770</td>\n",
       "      <td>751</td>\n",
       "      <td>745</td>\n",
       "      <td>749</td>\n",
       "      <td>750</td>\n",
       "      <td>747</td>\n",
       "    </tr>\n",
       "  </tbody>\n",
       "</table>\n",
       "</div>"
      ],
      "text/plain": [
       "                      city Census Estimates Base   2010   2011   2012   2013  \\\n",
       "0   Aguilar town, Colorado    538            537    534    517    512    485   \n",
       "1     Akron town, Colorado  1,702          1,702  1,705  1,684  1,665  1,677   \n",
       "2   Alamosa city, Colorado  8,780          8,876  8,917  9,030  9,035  9,109   \n",
       "3      Alma town, Colorado    270            274    275    272    272    275   \n",
       "4  Antonito town, Colorado    781            781    786    784    777    770   \n",
       "\n",
       "    2014   2015   2016   2017   2018   2019  \n",
       "0    468    468    469    473    482    480  \n",
       "1  1,672  1,690  1,705  1,730  1,718  1,723  \n",
       "2  9,156  9,270  9,361  9,455  9,566  9,591  \n",
       "3    280    285    296    304    312    313  \n",
       "4    770    751    745    749    750    747  "
      ]
     },
     "execution_count": 49,
     "metadata": {},
     "output_type": "execute_result"
    }
   ],
   "source": [
    "colorado_population_estimates_df.head()"
   ]
  },
  {
   "cell_type": "code",
   "execution_count": 50,
   "metadata": {},
   "outputs": [],
   "source": [
    "# calculate linear growth trend in each ZIP code \n",
    "avg_growth_rate_lst = []\n",
    "lin_reg = LinearRegression()\n",
    "cnt = 0\n",
    "for _, row in colorado_population_estimates_df.iterrows():\n",
    "    try:\n",
    "        city = row['city']\n",
    "        city = ' '.join(city.replace(',', '').split()[:-2])\n",
    "        pop_estimates = np.array([int(x.replace(',', '')) for x in row[3:]])\n",
    "        lin_reg.fit(np.arange(len(pop_estimates)).reshape(-1, 1), pop_estimates)\n",
    "        slope = lin_reg.coef_[0]\n",
    "        avg_growth_rate_lst.append((city, slope / pop_estimates[0]))\n",
    "    except (ValueError, AttributeError) as e:\n",
    "        pass"
   ]
  },
  {
   "cell_type": "code",
   "execution_count": 51,
   "metadata": {},
   "outputs": [],
   "source": [
    "avg_growth_rate_df = pd.DataFrame(avg_growth_rate_lst, columns=['city', 'avg_growth_rate'])\n",
    "zipcode_feature_df = (zipcode_feature_df.reset_index()\n",
    "                      .merge(avg_growth_rate_df, how='left', on='city').set_index('index'))"
   ]
  },
  {
   "cell_type": "code",
   "execution_count": 55,
   "metadata": {},
   "outputs": [
    {
     "data": {
      "text/html": [
       "<div>\n",
       "<style scoped>\n",
       "    .dataframe tbody tr th:only-of-type {\n",
       "        vertical-align: middle;\n",
       "    }\n",
       "\n",
       "    .dataframe tbody tr th {\n",
       "        vertical-align: top;\n",
       "    }\n",
       "\n",
       "    .dataframe thead th {\n",
       "        text-align: right;\n",
       "    }\n",
       "</style>\n",
       "<table border=\"1\" class=\"dataframe\">\n",
       "  <thead>\n",
       "    <tr style=\"text-align: right;\">\n",
       "      <th></th>\n",
       "      <th>distance_to_center_city</th>\n",
       "      <th>city</th>\n",
       "      <th>population</th>\n",
       "      <th>in_denver</th>\n",
       "      <th>in_neighboring_cities</th>\n",
       "      <th>price_red_frac</th>\n",
       "      <th>median_sale_price</th>\n",
       "      <th>avg_growth_rate</th>\n",
       "    </tr>\n",
       "    <tr>\n",
       "      <th>index</th>\n",
       "      <th></th>\n",
       "      <th></th>\n",
       "      <th></th>\n",
       "      <th></th>\n",
       "      <th></th>\n",
       "      <th></th>\n",
       "      <th></th>\n",
       "      <th></th>\n",
       "    </tr>\n",
       "  </thead>\n",
       "  <tbody>\n",
       "    <tr>\n",
       "      <th>80024</th>\n",
       "      <td>13.104293</td>\n",
       "      <td>Dupont</td>\n",
       "      <td>228.0</td>\n",
       "      <td>0</td>\n",
       "      <td>0</td>\n",
       "      <td>0.090909</td>\n",
       "      <td>250000.0</td>\n",
       "      <td>NaN</td>\n",
       "    </tr>\n",
       "    <tr>\n",
       "      <th>80025</th>\n",
       "      <td>33.337853</td>\n",
       "      <td>Eldorado Springs</td>\n",
       "      <td>253.0</td>\n",
       "      <td>0</td>\n",
       "      <td>0</td>\n",
       "      <td>0.368421</td>\n",
       "      <td>599000.0</td>\n",
       "      <td>NaN</td>\n",
       "    </tr>\n",
       "    <tr>\n",
       "      <th>80103</th>\n",
       "      <td>67.467536</td>\n",
       "      <td>Byers</td>\n",
       "      <td>2458.0</td>\n",
       "      <td>0</td>\n",
       "      <td>0</td>\n",
       "      <td>0.247159</td>\n",
       "      <td>370000.0</td>\n",
       "      <td>NaN</td>\n",
       "    </tr>\n",
       "    <tr>\n",
       "      <th>80116</th>\n",
       "      <td>46.624126</td>\n",
       "      <td>Franktown</td>\n",
       "      <td>3942.0</td>\n",
       "      <td>0</td>\n",
       "      <td>0</td>\n",
       "      <td>0.266017</td>\n",
       "      <td>655000.0</td>\n",
       "      <td>NaN</td>\n",
       "    </tr>\n",
       "    <tr>\n",
       "      <th>80131</th>\n",
       "      <td>29.318824</td>\n",
       "      <td>Louviers</td>\n",
       "      <td>243.0</td>\n",
       "      <td>0</td>\n",
       "      <td>0</td>\n",
       "      <td>0.260870</td>\n",
       "      <td>410000.0</td>\n",
       "      <td>NaN</td>\n",
       "    </tr>\n",
       "    <tr>\n",
       "      <th>80135</th>\n",
       "      <td>48.109626</td>\n",
       "      <td>Sedalia</td>\n",
       "      <td>3833.0</td>\n",
       "      <td>0</td>\n",
       "      <td>0</td>\n",
       "      <td>0.238519</td>\n",
       "      <td>527000.0</td>\n",
       "      <td>NaN</td>\n",
       "    </tr>\n",
       "    <tr>\n",
       "      <th>80137</th>\n",
       "      <td>34.757658</td>\n",
       "      <td>Watkins</td>\n",
       "      <td>1323.0</td>\n",
       "      <td>0</td>\n",
       "      <td>0</td>\n",
       "      <td>0.139241</td>\n",
       "      <td>500000.0</td>\n",
       "      <td>NaN</td>\n",
       "    </tr>\n",
       "    <tr>\n",
       "      <th>80425</th>\n",
       "      <td>46.069561</td>\n",
       "      <td>Buffalo Creek</td>\n",
       "      <td>184.0</td>\n",
       "      <td>0</td>\n",
       "      <td>0</td>\n",
       "      <td>0.200000</td>\n",
       "      <td>318750.0</td>\n",
       "      <td>NaN</td>\n",
       "    </tr>\n",
       "    <tr>\n",
       "      <th>80433</th>\n",
       "      <td>37.247250</td>\n",
       "      <td>Conifer</td>\n",
       "      <td>8354.0</td>\n",
       "      <td>0</td>\n",
       "      <td>0</td>\n",
       "      <td>0.232947</td>\n",
       "      <td>485000.0</td>\n",
       "      <td>NaN</td>\n",
       "    </tr>\n",
       "    <tr>\n",
       "      <th>80437</th>\n",
       "      <td>31.478403</td>\n",
       "      <td>Evergreen</td>\n",
       "      <td>NaN</td>\n",
       "      <td>0</td>\n",
       "      <td>0</td>\n",
       "      <td>1.000000</td>\n",
       "      <td>475000.0</td>\n",
       "      <td>NaN</td>\n",
       "    </tr>\n",
       "    <tr>\n",
       "      <th>80439</th>\n",
       "      <td>32.139098</td>\n",
       "      <td>Evergreen</td>\n",
       "      <td>23778.0</td>\n",
       "      <td>0</td>\n",
       "      <td>0</td>\n",
       "      <td>0.241962</td>\n",
       "      <td>585000.0</td>\n",
       "      <td>NaN</td>\n",
       "    </tr>\n",
       "    <tr>\n",
       "      <th>80453</th>\n",
       "      <td>23.233902</td>\n",
       "      <td>Idledale</td>\n",
       "      <td>197.0</td>\n",
       "      <td>0</td>\n",
       "      <td>0</td>\n",
       "      <td>0.283019</td>\n",
       "      <td>437500.0</td>\n",
       "      <td>NaN</td>\n",
       "    </tr>\n",
       "    <tr>\n",
       "      <th>80454</th>\n",
       "      <td>25.580995</td>\n",
       "      <td>Indian Hills</td>\n",
       "      <td>1224.0</td>\n",
       "      <td>0</td>\n",
       "      <td>0</td>\n",
       "      <td>0.174359</td>\n",
       "      <td>450000.0</td>\n",
       "      <td>NaN</td>\n",
       "    </tr>\n",
       "    <tr>\n",
       "      <th>80457</th>\n",
       "      <td>26.765316</td>\n",
       "      <td>Kittredge</td>\n",
       "      <td>612.0</td>\n",
       "      <td>0</td>\n",
       "      <td>0</td>\n",
       "      <td>0.235294</td>\n",
       "      <td>316000.0</td>\n",
       "      <td>NaN</td>\n",
       "    </tr>\n",
       "    <tr>\n",
       "      <th>80533</th>\n",
       "      <td>53.341412</td>\n",
       "      <td>Hygiene</td>\n",
       "      <td>NaN</td>\n",
       "      <td>0</td>\n",
       "      <td>0</td>\n",
       "      <td>NaN</td>\n",
       "      <td>NaN</td>\n",
       "      <td>NaN</td>\n",
       "    </tr>\n",
       "    <tr>\n",
       "      <th>80535</th>\n",
       "      <td>100.444102</td>\n",
       "      <td>Laporte</td>\n",
       "      <td>2636.0</td>\n",
       "      <td>0</td>\n",
       "      <td>0</td>\n",
       "      <td>0.182573</td>\n",
       "      <td>330000.0</td>\n",
       "      <td>NaN</td>\n",
       "    </tr>\n",
       "    <tr>\n",
       "      <th>80536</th>\n",
       "      <td>129.924697</td>\n",
       "      <td>Livermore</td>\n",
       "      <td>1759.0</td>\n",
       "      <td>0</td>\n",
       "      <td>0</td>\n",
       "      <td>0.233333</td>\n",
       "      <td>306000.0</td>\n",
       "      <td>NaN</td>\n",
       "    </tr>\n",
       "    <tr>\n",
       "      <th>80541</th>\n",
       "      <td>85.267714</td>\n",
       "      <td>Masonville</td>\n",
       "      <td>NaN</td>\n",
       "      <td>0</td>\n",
       "      <td>0</td>\n",
       "      <td>1.000000</td>\n",
       "      <td>122500.0</td>\n",
       "      <td>NaN</td>\n",
       "    </tr>\n",
       "    <tr>\n",
       "      <th>80544</th>\n",
       "      <td>43.368229</td>\n",
       "      <td>Niwot</td>\n",
       "      <td>111.0</td>\n",
       "      <td>0</td>\n",
       "      <td>0</td>\n",
       "      <td>0.333333</td>\n",
       "      <td>660000.0</td>\n",
       "      <td>NaN</td>\n",
       "    </tr>\n",
       "    <tr>\n",
       "      <th>80614</th>\n",
       "      <td>20.618412</td>\n",
       "      <td>Eastlake</td>\n",
       "      <td>NaN</td>\n",
       "      <td>0</td>\n",
       "      <td>0</td>\n",
       "      <td>NaN</td>\n",
       "      <td>NaN</td>\n",
       "      <td>NaN</td>\n",
       "    </tr>\n",
       "    <tr>\n",
       "      <th>80640</th>\n",
       "      <td>20.275910</td>\n",
       "      <td>Henderson</td>\n",
       "      <td>11054.0</td>\n",
       "      <td>0</td>\n",
       "      <td>0</td>\n",
       "      <td>0.196787</td>\n",
       "      <td>349900.0</td>\n",
       "      <td>NaN</td>\n",
       "    </tr>\n",
       "  </tbody>\n",
       "</table>\n",
       "</div>"
      ],
      "text/plain": [
       "       distance_to_center_city              city  population  in_denver  \\\n",
       "index                                                                     \n",
       "80024                13.104293            Dupont       228.0          0   \n",
       "80025                33.337853  Eldorado Springs       253.0          0   \n",
       "80103                67.467536             Byers      2458.0          0   \n",
       "80116                46.624126         Franktown      3942.0          0   \n",
       "80131                29.318824          Louviers       243.0          0   \n",
       "80135                48.109626           Sedalia      3833.0          0   \n",
       "80137                34.757658           Watkins      1323.0          0   \n",
       "80425                46.069561     Buffalo Creek       184.0          0   \n",
       "80433                37.247250           Conifer      8354.0          0   \n",
       "80437                31.478403         Evergreen         NaN          0   \n",
       "80439                32.139098         Evergreen     23778.0          0   \n",
       "80453                23.233902          Idledale       197.0          0   \n",
       "80454                25.580995      Indian Hills      1224.0          0   \n",
       "80457                26.765316         Kittredge       612.0          0   \n",
       "80533                53.341412           Hygiene         NaN          0   \n",
       "80535               100.444102           Laporte      2636.0          0   \n",
       "80536               129.924697         Livermore      1759.0          0   \n",
       "80541                85.267714        Masonville         NaN          0   \n",
       "80544                43.368229             Niwot       111.0          0   \n",
       "80614                20.618412          Eastlake         NaN          0   \n",
       "80640                20.275910         Henderson     11054.0          0   \n",
       "\n",
       "       in_neighboring_cities  price_red_frac  median_sale_price  \\\n",
       "index                                                             \n",
       "80024                      0        0.090909           250000.0   \n",
       "80025                      0        0.368421           599000.0   \n",
       "80103                      0        0.247159           370000.0   \n",
       "80116                      0        0.266017           655000.0   \n",
       "80131                      0        0.260870           410000.0   \n",
       "80135                      0        0.238519           527000.0   \n",
       "80137                      0        0.139241           500000.0   \n",
       "80425                      0        0.200000           318750.0   \n",
       "80433                      0        0.232947           485000.0   \n",
       "80437                      0        1.000000           475000.0   \n",
       "80439                      0        0.241962           585000.0   \n",
       "80453                      0        0.283019           437500.0   \n",
       "80454                      0        0.174359           450000.0   \n",
       "80457                      0        0.235294           316000.0   \n",
       "80533                      0             NaN                NaN   \n",
       "80535                      0        0.182573           330000.0   \n",
       "80536                      0        0.233333           306000.0   \n",
       "80541                      0        1.000000           122500.0   \n",
       "80544                      0        0.333333           660000.0   \n",
       "80614                      0             NaN                NaN   \n",
       "80640                      0        0.196787           349900.0   \n",
       "\n",
       "       avg_growth_rate  \n",
       "index                   \n",
       "80024              NaN  \n",
       "80025              NaN  \n",
       "80103              NaN  \n",
       "80116              NaN  \n",
       "80131              NaN  \n",
       "80135              NaN  \n",
       "80137              NaN  \n",
       "80425              NaN  \n",
       "80433              NaN  \n",
       "80437              NaN  \n",
       "80439              NaN  \n",
       "80453              NaN  \n",
       "80454              NaN  \n",
       "80457              NaN  \n",
       "80533              NaN  \n",
       "80535              NaN  \n",
       "80536              NaN  \n",
       "80541              NaN  \n",
       "80544              NaN  \n",
       "80614              NaN  \n",
       "80640              NaN  "
      ]
     },
     "execution_count": 55,
     "metadata": {},
     "output_type": "execute_result"
    }
   ],
   "source": [
    "# some ZIP codes are in locations that don't have population estimates \n",
    "zipcode_feature_df[zipcode_feature_df.avg_growth_rate.isna()]"
   ]
  },
  {
   "cell_type": "code",
   "execution_count": null,
   "metadata": {},
   "outputs": [],
   "source": [
    "plt.figure(figsize=(20, 10))\n",
    "plt.hist([x for x in zipcode_feature_df.avg_growth_rate if x < 0.5], density=True)\n",
    "plt.xlabel('average annual population growth rate since 2010')\n",
    "plt.ylabel('density')\n",
    "plt.title('population growth in Denver market area by ZIP code')\n",
    "plt.show()"
   ]
  },
  {
   "cell_type": "code",
   "execution_count": 56,
   "metadata": {},
   "outputs": [
    {
     "data": {
      "image/png": "[encoded data removed]",
      "text/plain": [
       "<Figure size 1440x720 with 1 Axes>"
      ]
     },
     "metadata": {
      "needs_background": "light"
     },
     "output_type": "display_data"
    }
   ],
   "source": [
    "a = denver_listing_dates_df_no_dups.groupby('zipcode').agg({'property_id': len})\n",
    "plt.figure(figsize=(20, 10))\n",
    "plt.hist(a['property_id'], bins=50)\n",
    "plt.show()"
   ]
  },
  {
   "cell_type": "code",
   "execution_count": 57,
   "metadata": {},
   "outputs": [
    {
     "data": {
      "text/plain": [
       "144"
      ]
     },
     "execution_count": 57,
     "metadata": {},
     "output_type": "execute_result"
    }
   ],
   "source": [
    "len(a['property_id'])"
   ]
  },
  {
   "cell_type": "code",
   "execution_count": 67,
   "metadata": {},
   "outputs": [
    {
     "data": {
      "text/plain": [
       "129"
      ]
     },
     "execution_count": 67,
     "metadata": {},
     "output_type": "execute_result"
    }
   ],
   "source": [
    "sum(a['property_id'] > 3)"
   ]
  },
  {
   "cell_type": "code",
   "execution_count": null,
   "metadata": {},
   "outputs": [],
   "source": []
  }
 ],
 "metadata": {
  "kernelspec": {
   "display_name": "Python 3",
   "language": "python",
   "name": "python3"
  },
  "language_info": {
   "codemirror_mode": {
    "name": "ipython",
    "version": 3
   },
   "file_extension": ".py",
   "mimetype": "text/x-python",
   "name": "python",
   "nbconvert_exporter": "python",
   "pygments_lexer": "ipython3",
   "version": "3.8.6"
  }
 },
 "nbformat": 4,
 "nbformat_minor": 2
}
