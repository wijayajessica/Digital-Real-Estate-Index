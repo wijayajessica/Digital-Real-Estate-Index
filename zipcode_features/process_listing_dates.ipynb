{
 "cells": [
  {
   "cell_type": "code",
   "execution_count": 1,
   "metadata": {},
   "outputs": [],
   "source": [
    "import datetime\n",
    "import numpy as np\n",
    "import matplotlib.pyplot as plt\n",
    "import pandas as pd"
   ]
  },
  {
   "cell_type": "code",
   "execution_count": 11,
   "metadata": {},
   "outputs": [],
   "source": [
    "plt.rcParams.update({'font.size': 22})"
   ]
  },
  {
   "cell_type": "code",
   "execution_count": 2,
   "metadata": {},
   "outputs": [],
   "source": [
    "denver_listing_dates_df = pd.read_csv('denver_listing_dates.csv')\n",
    "denver_listing_dates_df['zipcode'] = denver_listing_dates_df['zipcode'].astype(str)"
   ]
  },
  {
   "cell_type": "code",
   "execution_count": 3,
   "metadata": {},
   "outputs": [],
   "source": [
    "for event in 'list sale withdrawn expired cancelled'.split():\n",
    "    column = event + '_date'\n",
    "    denver_listing_dates_df[column] = pd.to_datetime(denver_listing_dates_df[column]).dt.date"
   ]
  },
  {
   "cell_type": "code",
   "execution_count": 4,
   "metadata": {},
   "outputs": [
    {
     "name": "stdout",
     "output_type": "stream",
     "text": [
      "(451235, 11)\n",
      "(451231, 11)\n"
     ]
    }
   ],
   "source": [
    "print(denver_listing_dates_df.shape)\n",
    "denver_listing_dates_df = denver_listing_dates_df[\n",
    "    (denver_listing_dates_df['list_date'] < datetime.date.today()) &\n",
    "    ((denver_listing_dates_df['sale_date'] < datetime.date.today()) |\n",
    "     (denver_listing_dates_df['sale_date'].isna()))]\n",
    "print(denver_listing_dates_df.shape)"
   ]
  },
  {
   "cell_type": "code",
   "execution_count": 5,
   "metadata": {},
   "outputs": [
    {
     "data": {
      "text/html": [
       "<div>\n",
       "<style scoped>\n",
       "    .dataframe tbody tr th:only-of-type {\n",
       "        vertical-align: middle;\n",
       "    }\n",
       "\n",
       "    .dataframe tbody tr th {\n",
       "        vertical-align: top;\n",
       "    }\n",
       "\n",
       "    .dataframe thead th {\n",
       "        text-align: right;\n",
       "    }\n",
       "</style>\n",
       "<table border=\"1\" class=\"dataframe\">\n",
       "  <thead>\n",
       "    <tr style=\"text-align: right;\">\n",
       "      <th></th>\n",
       "      <th>property_id</th>\n",
       "      <th>zipcode</th>\n",
       "      <th>latitude</th>\n",
       "      <th>longitude</th>\n",
       "      <th>list_date</th>\n",
       "      <th>sale_date</th>\n",
       "      <th>withdrawn_date</th>\n",
       "      <th>expired_date</th>\n",
       "      <th>cancelled_date</th>\n",
       "      <th>current_status</th>\n",
       "      <th>sale_price</th>\n",
       "    </tr>\n",
       "  </thead>\n",
       "  <tbody>\n",
       "    <tr>\n",
       "      <th>0</th>\n",
       "      <td>139863800</td>\n",
       "      <td>80112</td>\n",
       "      <td>39.58203</td>\n",
       "      <td>-104.92111</td>\n",
       "      <td>2016-03-01</td>\n",
       "      <td>2016-03-01</td>\n",
       "      <td>NaT</td>\n",
       "      <td>NaT</td>\n",
       "      <td>NaT</td>\n",
       "      <td>Sale</td>\n",
       "      <td>475000.0</td>\n",
       "    </tr>\n",
       "    <tr>\n",
       "      <th>1</th>\n",
       "      <td>139817027</td>\n",
       "      <td>80112</td>\n",
       "      <td>39.56911</td>\n",
       "      <td>-104.80082</td>\n",
       "      <td>2016-03-01</td>\n",
       "      <td>2016-04-08</td>\n",
       "      <td>NaT</td>\n",
       "      <td>NaT</td>\n",
       "      <td>NaT</td>\n",
       "      <td>Sale</td>\n",
       "      <td>295000.0</td>\n",
       "    </tr>\n",
       "    <tr>\n",
       "      <th>2</th>\n",
       "      <td>482086548</td>\n",
       "      <td>80138</td>\n",
       "      <td>39.49819</td>\n",
       "      <td>-104.73505</td>\n",
       "      <td>2016-03-01</td>\n",
       "      <td>2016-05-19</td>\n",
       "      <td>NaT</td>\n",
       "      <td>NaT</td>\n",
       "      <td>NaT</td>\n",
       "      <td>Sale</td>\n",
       "      <td>412000.0</td>\n",
       "    </tr>\n",
       "    <tr>\n",
       "      <th>3</th>\n",
       "      <td>494122461</td>\n",
       "      <td>80211</td>\n",
       "      <td>39.75414</td>\n",
       "      <td>-105.03118</td>\n",
       "      <td>2016-03-01</td>\n",
       "      <td>NaT</td>\n",
       "      <td>NaT</td>\n",
       "      <td>2016-03-01</td>\n",
       "      <td>NaT</td>\n",
       "      <td>Expired</td>\n",
       "      <td>NaN</td>\n",
       "    </tr>\n",
       "    <tr>\n",
       "      <th>4</th>\n",
       "      <td>523793691</td>\n",
       "      <td>80516</td>\n",
       "      <td>40.09353</td>\n",
       "      <td>-104.99471</td>\n",
       "      <td>2016-03-01</td>\n",
       "      <td>2016-04-15</td>\n",
       "      <td>NaT</td>\n",
       "      <td>NaT</td>\n",
       "      <td>NaT</td>\n",
       "      <td>Sale</td>\n",
       "      <td>398000.0</td>\n",
       "    </tr>\n",
       "  </tbody>\n",
       "</table>\n",
       "</div>"
      ],
      "text/plain": [
       "   property_id zipcode  latitude  longitude   list_date   sale_date  \\\n",
       "0    139863800   80112  39.58203 -104.92111  2016-03-01  2016-03-01   \n",
       "1    139817027   80112  39.56911 -104.80082  2016-03-01  2016-04-08   \n",
       "2    482086548   80138  39.49819 -104.73505  2016-03-01  2016-05-19   \n",
       "3    494122461   80211  39.75414 -105.03118  2016-03-01         NaT   \n",
       "4    523793691   80516  40.09353 -104.99471  2016-03-01  2016-04-15   \n",
       "\n",
       "  withdrawn_date expired_date cancelled_date current_status  sale_price  \n",
       "0            NaT          NaT            NaT           Sale    475000.0  \n",
       "1            NaT          NaT            NaT           Sale    295000.0  \n",
       "2            NaT          NaT            NaT           Sale    412000.0  \n",
       "3            NaT   2016-03-01            NaT        Expired         NaN  \n",
       "4            NaT          NaT            NaT           Sale    398000.0  "
      ]
     },
     "execution_count": 5,
     "metadata": {},
     "output_type": "execute_result"
    }
   ],
   "source": [
    "denver_listing_dates_df.head()"
   ]
  },
  {
   "cell_type": "code",
   "execution_count": 6,
   "metadata": {},
   "outputs": [],
   "source": [
    "is_duplicated = denver_listing_dates_df.duplicated('property_id', keep=False)\n",
    "denver_listing_dates_df_duplicated = denver_listing_dates_df[is_duplicated]\n",
    "denver_listing_dates_df_duplicated = denver_listing_dates_df_duplicated.sort_values('list_date')"
   ]
  },
  {
   "cell_type": "code",
   "execution_count": 7,
   "metadata": {},
   "outputs": [],
   "source": [
    "denver_listing_dates_df_duplicated_grouped = denver_listing_dates_df_duplicated.groupby('property_id')"
   ]
  },
  {
   "cell_type": "code",
   "execution_count": 8,
   "metadata": {},
   "outputs": [],
   "source": [
    "days_cutoff = 365\n",
    "cnt = 0\n",
    "days_later_lst = []\n",
    "rows_to_exclude = []\n",
    "for _, df in denver_listing_dates_df_duplicated_grouped:\n",
    "    list_dates = list(df['list_date'])\n",
    "    days_later = np.array([(list_dates[i + 1] - list_dates[i]).days for i in range(len(list_dates) - 1)])\n",
    "    days_later_lst.extend(days_later)\n",
    "    exclude_row = days_later < days_cutoff\n",
    "    rows = df.index[1:]\n",
    "    rows_to_exclude.extend(rows[exclude_row])"
   ]
  },
  {
   "cell_type": "code",
   "execution_count": 13,
   "metadata": {},
   "outputs": [
    {
     "name": "stdout",
     "output_type": "stream",
     "text": [
      "451231\n",
      "436935\n"
     ]
    }
   ],
   "source": [
    "print(len(denver_listing_dates_df))\n",
    "denver_listing_dates_df_cleaned = denver_listing_dates_df.drop(rows_to_exclude, axis=0)\n",
    "print(len(denver_listing_dates_df_cleaned))"
   ]
  },
  {
   "cell_type": "code",
   "execution_count": 18,
   "metadata": {},
   "outputs": [
    {
     "data": {
      "image/png": "[encoded data removed]",
      "text/plain": [
       "<Figure size 1440x720 with 1 Axes>"
      ]
     },
     "metadata": {
      "needs_background": "light"
     },
     "output_type": "display_data"
    }
   ],
   "source": [
    "plt.figure(figsize=(20, 10))\n",
    "plt.hist(days_later_lst, bins=10, density=True)\n",
    "plt.xlabel('number of days between consecutive list dates')\n",
    "plt.ylabel('density')\n",
    "plt.axvline(x=days_cutoff, color='red', linestyle='--')\n",
    "plt.show()"
   ]
  },
  {
   "cell_type": "code",
   "execution_count": 14,
   "metadata": {},
   "outputs": [],
   "source": [
    "denver_listing_dates_df_cleaned.to_csv('denver_listing_dates_cleaned.csv', index=False)"
   ]
  },
  {
   "cell_type": "code",
   "execution_count": 17,
   "metadata": {},
   "outputs": [
    {
     "data": {
      "text/plain": [
       "0.03168222041482079"
      ]
     },
     "execution_count": 17,
     "metadata": {},
     "output_type": "execute_result"
    }
   ],
   "source": [
    "(451231 - 436935) / 451231"
   ]
  },
  {
   "cell_type": "code",
   "execution_count": null,
   "metadata": {},
   "outputs": [],
   "source": []
  }
 ],
 "metadata": {
  "kernelspec": {
   "display_name": "Python 3",
   "language": "python",
   "name": "python3"
  },
  "language_info": {
   "codemirror_mode": {
    "name": "ipython",
    "version": 3
   },
   "file_extension": ".py",
   "mimetype": "text/x-python",
   "name": "python",
   "nbconvert_exporter": "python",
   "pygments_lexer": "ipython3",
   "version": "3.8.6"
  }
 },
 "nbformat": 4,
 "nbformat_minor": 2
}
