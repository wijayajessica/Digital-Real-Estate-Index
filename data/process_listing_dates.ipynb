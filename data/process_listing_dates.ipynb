{
 "cells": [
  {
   "cell_type": "code",
   "execution_count": 89,
   "metadata": {},
   "outputs": [],
   "source": [
    "from copy import deepcopy\n",
    "import datetime\n",
    "import json\n",
    "import pandas as pd"
   ]
  },
  {
   "cell_type": "code",
   "execution_count": 157,
   "metadata": {},
   "outputs": [],
   "source": [
    "df = pd.read_csv('boston_listing_dates.csv')"
   ]
  },
  {
   "cell_type": "code",
   "execution_count": 160,
   "metadata": {},
   "outputs": [
    {
     "data": {
      "text/plain": [
       "(417098, 9)"
      ]
     },
     "execution_count": 160,
     "metadata": {},
     "output_type": "execute_result"
    }
   ],
   "source": [
    "df.shape"
   ]
  },
  {
   "cell_type": "code",
   "execution_count": 161,
   "metadata": {},
   "outputs": [
    {
     "data": {
      "text/html": [
       "<div>\n",
       "<style scoped>\n",
       "    .dataframe tbody tr th:only-of-type {\n",
       "        vertical-align: middle;\n",
       "    }\n",
       "\n",
       "    .dataframe tbody tr th {\n",
       "        vertical-align: top;\n",
       "    }\n",
       "\n",
       "    .dataframe thead th {\n",
       "        text-align: right;\n",
       "    }\n",
       "</style>\n",
       "<table border=\"1\" class=\"dataframe\">\n",
       "  <thead>\n",
       "    <tr style=\"text-align: right;\">\n",
       "      <th></th>\n",
       "      <th>property_id</th>\n",
       "      <th>zipcode</th>\n",
       "      <th>list_date</th>\n",
       "      <th>sale_date</th>\n",
       "      <th>withdrawn_date</th>\n",
       "      <th>expired_date</th>\n",
       "      <th>cancelled_date</th>\n",
       "      <th>current_status</th>\n",
       "      <th>sale_price</th>\n",
       "    </tr>\n",
       "  </thead>\n",
       "  <tbody>\n",
       "    <tr>\n",
       "      <th>0</th>\n",
       "      <td>68560382</td>\n",
       "      <td>1880</td>\n",
       "      <td>2016-03-01</td>\n",
       "      <td>2016-04-13</td>\n",
       "      <td>NaN</td>\n",
       "      <td>NaN</td>\n",
       "      <td>NaN</td>\n",
       "      <td>Sale</td>\n",
       "      <td>485000.0</td>\n",
       "    </tr>\n",
       "    <tr>\n",
       "      <th>1</th>\n",
       "      <td>504929421</td>\n",
       "      <td>1440</td>\n",
       "      <td>2016-03-01</td>\n",
       "      <td>NaN</td>\n",
       "      <td>NaN</td>\n",
       "      <td>NaN</td>\n",
       "      <td>2016-05-02</td>\n",
       "      <td>Cancelled</td>\n",
       "      <td>NaN</td>\n",
       "    </tr>\n",
       "    <tr>\n",
       "      <th>2</th>\n",
       "      <td>347490903</td>\n",
       "      <td>2130</td>\n",
       "      <td>2016-03-01</td>\n",
       "      <td>2016-04-22</td>\n",
       "      <td>NaN</td>\n",
       "      <td>NaN</td>\n",
       "      <td>NaN</td>\n",
       "      <td>Sale</td>\n",
       "      <td>772000.0</td>\n",
       "    </tr>\n",
       "    <tr>\n",
       "      <th>3</th>\n",
       "      <td>66726260</td>\n",
       "      <td>2720</td>\n",
       "      <td>2016-03-01</td>\n",
       "      <td>2016-05-18</td>\n",
       "      <td>NaN</td>\n",
       "      <td>NaN</td>\n",
       "      <td>NaN</td>\n",
       "      <td>Sale</td>\n",
       "      <td>137194.0</td>\n",
       "    </tr>\n",
       "    <tr>\n",
       "      <th>4</th>\n",
       "      <td>645765969</td>\n",
       "      <td>2301</td>\n",
       "      <td>2016-03-01</td>\n",
       "      <td>2016-07-08</td>\n",
       "      <td>NaN</td>\n",
       "      <td>NaN</td>\n",
       "      <td>NaN</td>\n",
       "      <td>Sale</td>\n",
       "      <td>405000.0</td>\n",
       "    </tr>\n",
       "  </tbody>\n",
       "</table>\n",
       "</div>"
      ],
      "text/plain": [
       "   property_id  zipcode   list_date   sale_date withdrawn_date expired_date  \\\n",
       "0     68560382     1880  2016-03-01  2016-04-13            NaN          NaN   \n",
       "1    504929421     1440  2016-03-01         NaN            NaN          NaN   \n",
       "2    347490903     2130  2016-03-01  2016-04-22            NaN          NaN   \n",
       "3     66726260     2720  2016-03-01  2016-05-18            NaN          NaN   \n",
       "4    645765969     2301  2016-03-01  2016-07-08            NaN          NaN   \n",
       "\n",
       "  cancelled_date current_status  sale_price  \n",
       "0            NaN           Sale    485000.0  \n",
       "1     2016-05-02      Cancelled         NaN  \n",
       "2            NaN           Sale    772000.0  \n",
       "3            NaN           Sale    137194.0  \n",
       "4            NaN           Sale    405000.0  "
      ]
     },
     "execution_count": 161,
     "metadata": {},
     "output_type": "execute_result"
    }
   ],
   "source": [
    "df.head()"
   ]
  },
  {
   "cell_type": "code",
   "execution_count": 149,
   "metadata": {},
   "outputs": [],
   "source": [
    "# for column in 'list_date sale_date withdrawn_date expired_date cancelled_date'.split():\n",
    "#     df[column] = pd.to_datetime(df[column]).dt.date"
   ]
  },
  {
   "cell_type": "code",
   "execution_count": 162,
   "metadata": {},
   "outputs": [],
   "source": [
    "def convert_to_zipcode(zip_int):\n",
    "    zipcode = str(zip_int)\n",
    "    if len(zipcode) == 4:\n",
    "        return '0' + zipcode\n",
    "    return zipcode\n",
    "df['zipcode'] = df['zipcode'].apply(convert_to_zipcode)"
   ]
  },
  {
   "cell_type": "code",
   "execution_count": 151,
   "metadata": {},
   "outputs": [],
   "source": [
    "# def convert_date_to_idx(date):\n",
    "#     return (date - start_date).days\n",
    "# def convert_idx_to_date(idx):\n",
    "#     return start_date + datetime.timedelta(days=idx)"
   ]
  },
  {
   "cell_type": "code",
   "execution_count": 169,
   "metadata": {},
   "outputs": [],
   "source": [
    "start_date = df.list_date[0]\n",
    "date_today = datetime.date.today()\n",
    "date_today_str = str(date_today)\n",
    "dates = [str(date.date()) for date in pd.date_range(start_date, date_today, freq='d')]\n",
    "zipcodes = set(df.zipcode)"
   ]
  },
  {
   "cell_type": "code",
   "execution_count": 164,
   "metadata": {},
   "outputs": [],
   "source": [
    "category_to_cnt = {cat: 0 for cat in ['new_listings', 'sales']}\n",
    "date_to_category_to_cnt = {date: deepcopy(category_to_cnt) for date in dates}\n",
    "zipcode_to_date_to_category_to_cnt = {zipcode: deepcopy(date_to_category_to_cnt)\n",
    "                                          for zipcode in zipcodes}"
   ]
  },
  {
   "cell_type": "code",
   "execution_count": 167,
   "metadata": {},
   "outputs": [],
   "source": [
    "date_to_category_to_market_area_cnt = deepcopy(date_to_category_to_cnt)"
   ]
  },
  {
   "cell_type": "code",
   "execution_count": 173,
   "metadata": {},
   "outputs": [],
   "source": [
    "for idx, row in df.iterrows():\n",
    "    zipcode = row['zipcode']\n",
    "    list_date = row['list_date']\n",
    "    sale_date = row['sale_date']\n",
    "    if list_date <= date_today_str:\n",
    "        zipcode_to_date_to_category_to_cnt[zipcode][list_date]['new_listings'] += 1\n",
    "        date_to_category_to_market_area_cnt[list_date]['new_listings'] += 1\n",
    "    if pd.notnull(sale_date) and sale_date <= date_today_str:\n",
    "        zipcode_to_date_to_category_to_cnt[zipcode][sale_date]['sales'] += 1\n",
    "        date_to_category_to_market_area_cnt[sale_date]['sales'] += 1"
   ]
  },
  {
   "cell_type": "code",
   "execution_count": 176,
   "metadata": {},
   "outputs": [],
   "source": [
    "with open('zipcode_to_date_to_category_to_cnt.txt', 'w') as f:\n",
    "    f.write(json.dumps(zipcode_to_date_to_category_to_cnt))\n",
    "with open('date_to_category_to_market_area_cnt.txt', 'w') as f:\n",
    "    f.write(json.dumps(date_to_category_to_market_area_cnt))"
   ]
  },
  {
   "cell_type": "code",
   "execution_count": null,
   "metadata": {},
   "outputs": [],
   "source": []
  }
 ],
 "metadata": {
  "kernelspec": {
   "display_name": "Python 3",
   "language": "python",
   "name": "python3"
  },
  "language_info": {
   "codemirror_mode": {
    "name": "ipython",
    "version": 3
   },
   "file_extension": ".py",
   "mimetype": "text/x-python",
   "name": "python",
   "nbconvert_exporter": "python",
   "pygments_lexer": "ipython3",
   "version": "3.8.5"
  }
 },
 "nbformat": 4,
 "nbformat_minor": 2
}
