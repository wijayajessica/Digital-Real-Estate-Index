{
 "cells": [
  {
   "cell_type": "code",
   "execution_count": 2,
   "metadata": {},
   "outputs": [],
   "source": [
    "from collections import defaultdict\n",
    "import datetime\n",
    "import matplotlib.pyplot as plt\n",
    "import numpy as np\n",
    "import pandas as pd\n",
    "from sklearn.metrics import mean_squared_error, mean_absolute_error\n",
    "from scipy.stats import norm\n",
    "import sys"
   ]
  },
  {
   "cell_type": "code",
   "execution_count": 6,
   "metadata": {},
   "outputs": [],
   "source": [
    "data_dir = 'index-team-data'"
   ]
  },
  {
   "cell_type": "code",
   "execution_count": 157,
   "metadata": {},
   "outputs": [],
   "source": [
    "class CensusTractForecast:\n",
    "    \n",
    "    def __init__(self, market_area, last_full_month, sales_count_threshold=10, alpha_level=0.1):\n",
    "        self.data_path = f'../{data_dir}/{market_area}'\n",
    "        self.listings_df = pd.read_csv(f'{self.data_path}/listing_dates_with_ct.csv')\n",
    "        self.ct_stats_df = pd.read_csv(f'{self.data_path}/census_tract_data.csv')\n",
    "        self.sales_count_threshold = sales_count_threshold\n",
    "        self.last_full_month = last_full_month\n",
    "        self.alpha_level = alpha_level\n",
    "        self.ct_activity_df = self._get_ct_activity_df()\n",
    "    \n",
    "    def _get_ct_activity_df(self):\n",
    "        listings_df = self.listings_df\n",
    "        listings_df['ct_key'] = listings_df['ct_key'].astype('int')\n",
    "        listings_df['list_month'] = (pd.to_datetime(listings_df['list_date']) + \n",
    "                                     pd.offsets.MonthBegin(n=1) - pd.offsets.MonthBegin(n=1))\n",
    "        listings_df['sale_month'] = (pd.to_datetime(listings_df['sale_date']) + \n",
    "                                     pd.offsets.MonthBegin(n=1) - pd.offsets.MonthBegin(n=1))\n",
    "        \n",
    "        num_listings_ct = (listings_df.dropna(subset=['list_month'])\n",
    "                   .groupby(['ct_key', 'list_month']).count()[['property_id']].reset_index())\n",
    "        num_listings_ct = num_listings_ct.rename(columns={'property_id':'ct_count_listings', \n",
    "                                                          'list_month':'month'})\n",
    "\n",
    "        num_sales_ct = (listings_df.dropna(subset=['sale_month'])\n",
    "                        .groupby(['ct_key', 'sale_month']).count()[['property_id']].reset_index())\n",
    "        num_sales_ct = num_sales_ct.rename(columns={'property_id':'ct_count_sales', 'sale_month':'month'})\n",
    "\n",
    "        num_sales_listings_df = pd.merge(num_listings_ct, num_sales_ct, left_on=['month','ct_key'], \n",
    "                                         right_on=['month','ct_key'], how='outer')\n",
    "        num_sales_listings_df = num_sales_listings_df.fillna(0.)\n",
    "        \n",
    "        ct_stats_df = self.ct_stats_df\n",
    "        ct_stats_df = ct_stats_df[['ct_key', 'total_households']]\n",
    "        \n",
    "        ct_activity_df = pd.merge(ct_stats_df, num_sales_listings_df, left_on='ct_key', right_on='ct_key')\n",
    "        \n",
    "        listing_sales_overall = num_sales_listings_df.groupby(['ct_key','month']).agg(\n",
    "            {'ct_count_listings':'mean', 'ct_count_sales':'mean'}).reset_index()\n",
    "        listing_sales_overall = listing_sales_overall.groupby('month').agg(\n",
    "            {'ct_count_listings':'sum', 'ct_count_sales':'sum'})\n",
    "\n",
    "        # sum up number of households for all CT in the house listing dataset and the CT-level feature dataset\n",
    "        listing_sales_overall['total_households'] = ct_stats_df[ct_stats_df['ct_key'].isin(\n",
    "            num_sales_listings_df.ct_key.unique())]['total_households'].sum()\n",
    "\n",
    "        listing_sales_overall['sales_per_households'] = (listing_sales_overall['ct_count_sales'] /\n",
    "                                                         listing_sales_overall['total_households'])\n",
    "        listing_sales_overall['listings_per_households'] = (listing_sales_overall['ct_count_listings'] /\n",
    "                                                            listing_sales_overall['total_households'])\n",
    "        \n",
    "        ct_activity_df = pd.merge(ct_activity_df, \n",
    "                             listing_sales_overall[['sales_per_households', 'listings_per_households']], \n",
    "                             left_on='month', right_index=True)\n",
    "        ct_activity_df['ct_listings_per_households'] = (ct_activity_df['ct_count_listings'] / \n",
    "                                                        ct_activity_df['total_households'])\n",
    "        ct_activity_df['ct_sales_per_households'] = (ct_activity_df['ct_count_sales'] / \n",
    "                                                     ct_activity_df['total_households'])\n",
    "\n",
    "        ct_activity_df['relative_listings_toBaseline'] = (ct_activity_df['ct_listings_per_households'] / \n",
    "                                                     ct_activity_df['listings_per_households'])\n",
    "        ct_activity_df['relative_sales_toBaseline'] = (ct_activity_df['ct_sales_per_households'] / \n",
    "                                                  ct_activity_df['sales_per_households'])\n",
    "        \n",
    "        droppped_ct = ct_activity_df.groupby('ct_key').count()['ct_count_sales'].reset_index(name='count')\n",
    "        droppped_ct = droppped_ct[droppped_ct['count'] < self.sales_count_threshold]['ct_key'].values\n",
    "        \n",
    "        ct_activity_df = ct_activity_df[~ct_activity_df['ct_key'].isin(droppped_ct)]\n",
    "        ct_activity_df = ct_activity_df[ct_activity_df['month'] <= pd.Timestamp(self.last_full_month)]\n",
    "        \n",
    "        return ct_activity_df\n",
    "    \n",
    "    def get_single_ct_forecast(self, forecasted_listings_rate, forecasted_sales_rate):\n",
    "        \"\"\"Get the census tract-level forecast for a single forecasted listing rate and forecasted sales rate.\"\"\"\n",
    "        ratio_param_df = self.ct_activity_df.groupby('ct_key').agg(\n",
    "            {'relative_listings_toBaseline': [np.mean, np.std],\n",
    "             'relative_sales_toBaseline': [np.mean, np.std]})\n",
    "        \n",
    "        ratio_param_df.columns = ['listings_mean', 'listings_std', 'sales_mean', 'sales_std']\n",
    "        \n",
    "        std_multiple = abs(norm.ppf(self.alpha_level / 2))\n",
    "        \n",
    "        forecast_df = pd.merge(ratio_param_df, self.ct_stats_df[['ct_key', 'total_households']], \n",
    "                               left_index=True, right_on = 'ct_key', how='inner').set_index('ct_key')\n",
    "        \n",
    "        forecast_df['mean_listings_forecast'] = (forecasted_listings_rate * forecast_df['listings_mean'] *\n",
    "                                                 forecast_df['total_households'])\n",
    "        listings_lower_bound_ratio = np.maximum(\n",
    "            0.0, forecast_df['listings_mean'] - std_multiple * forecast_df['listings_std'])\n",
    "        listings_upper_bound_ratio = forecast_df['listings_mean'] + std_multiple * forecast_df['listings_std']\n",
    "        forecast_df['lower_bound_listings_forecast'] = (\n",
    "            forecasted_listings_rate * listings_lower_bound_ratio * forecast_df['total_households'])\n",
    "        forecast_df['upper_bound_listings_forecast'] = (\n",
    "            forecasted_listings_rate * listings_upper_bound_ratio * forecast_df['total_households'])\n",
    "        \n",
    "        forecast_df['mean_sales_forecast'] = (forecasted_sales_rate * forecast_df['sales_mean'] *\n",
    "                                                 forecast_df['total_households'])\n",
    "        sales_lower_bound_ratio = np.maximum(\n",
    "            0.0, forecast_df['sales_mean'] - std_multiple * forecast_df['sales_std'])\n",
    "        sales_upper_bound_ratio = forecast_df['sales_mean'] + std_multiple * forecast_df['sales_std']\n",
    "        forecast_df['lower_bound_sales_forecast'] = (\n",
    "            forecasted_sales_rate * sales_lower_bound_ratio * forecast_df['total_households'])\n",
    "        forecast_df['upper_bound_sales_forecast'] = (\n",
    "            forecasted_sales_rate * sales_upper_bound_ratio * forecast_df['total_households'])\n",
    "        \n",
    "        columns_to_keep = ['mean_listings_forecast', 'lower_bound_listings_forecast', \n",
    "                           'upper_bound_listings_forecast', 'mean_sales_forecast',\n",
    "                           'lower_bound_sales_forecast', 'upper_bound_sales_forecast']\n",
    "        \n",
    "        forecast_df = forecast_df[columns_to_keep]\n",
    "        return forecast_df\n",
    "    \n",
    "    def _quantile(self, lst, bound):\n",
    "        percentile = self.alpha_level / 2 if bound == 'lower_bound' else 1 - (self.alpha_level / 2)\n",
    "        return max(0.0, np.quantile(lst, percentile))\n",
    "        \n",
    "    def get_ct_forecast(self, months_ahead):\n",
    "        \"\"\"Calculate the census tract forecast for the specified number of months ahead.\n",
    "        \n",
    "        The mean forecast is computed by simply calculating the mean of all the market-level forecast samples.\n",
    "        The lower and upper bounds are determined by calculating the alpha / 2 and 1 - (alpha / 2) quantiles\n",
    "        of the forecasts.\n",
    "        \"\"\"\n",
    "        forecast_samples_df = pd.read_csv(f'{self.data_path}/{months_ahead}_month_market_level_forecast.csv')\n",
    "        combined_df = pd.DataFrame()\n",
    "        for forecasted_listings_rate, forecasted_sales_rate in zip(forecast_samples_df['listing_forecast'],\n",
    "                                                                   forecast_samples_df['sales_forecast']):\n",
    "            \n",
    "            forecast_df = self.get_single_ct_forecast(forecasted_listings_rate, forecasted_sales_rate)\n",
    "            combined_df = combined_df.append(forecast_df)\n",
    "            \n",
    "        summary_forecast_df = combined_df.groupby(level=0).agg(\n",
    "            {'mean_listings_forecast': np.mean,\n",
    "             'lower_bound_listings_forecast': lambda x: self._quantile(x, 'lower_bound'),\n",
    "             'upper_bound_listings_forecast': lambda x: self._quantile(x, 'upper_bound'),\n",
    "             'mean_sales_forecast': np.mean,\n",
    "             'lower_bound_sales_forecast': lambda x: self._quantile(x, 'lower_bound'),\n",
    "             'upper_bound_sales_forecast': lambda x: self._quantile(x, 'upper_bound')}\n",
    "        )\n",
    "        \n",
    "        summary_forecast_df.to_csv(f'{self.data_path}/{months_ahead}_month_census_tract_forecast.csv')\n",
    "            \n",
    "        return summary_forecast_df"
   ]
  },
  {
   "cell_type": "code",
   "execution_count": 160,
   "metadata": {},
   "outputs": [],
   "source": [
    "forecast = CensusTractForecast('denver', datetime.date(2020, 10, 1))"
   ]
  },
  {
   "cell_type": "code",
   "execution_count": 161,
   "metadata": {},
   "outputs": [],
   "source": [
    "months_ahead = 3\n",
    "summary_forecast_df = forecast.get_ct_forecast(months_ahead)"
   ]
  },
  {
   "cell_type": "code",
   "execution_count": 151,
   "metadata": {},
   "outputs": [
    {
     "data": {
      "text/plain": [
       "mean_listings_forecast           12.232798\n",
       "lower_bound_listings_forecast     3.429323\n",
       "upper_bound_listings_forecast    22.421863\n",
       "mean_sales_forecast               6.292202\n",
       "lower_bound_sales_forecast        2.608622\n",
       "upper_bound_sales_forecast       11.035848\n",
       "Name: 8123001902, dtype: float64"
      ]
     },
     "execution_count": 151,
     "metadata": {},
     "output_type": "execute_result"
    }
   ],
   "source": [
    "# forecast_df = forecast.get_single_ct_forecast(0.002, 0.001)\n",
    "# forecast_df.loc[8123001902]\n",
    "# summary_forecast_df.loc[8123001902]"
   ]
  },
  {
   "cell_type": "code",
   "execution_count": 3,
   "metadata": {},
   "outputs": [],
   "source": [
    "d = {'listing_forecast': np.random.normal(0.002, 0.0001, 200), \n",
    "     'sales_forecast': np.random.normal(0.001, 0.0001, 200)}\n",
    "df = pd.DataFrame.from_dict(d)\n",
    "df.to_csv(f'{data_path}/3_month_market_level_forecast.csv', index=False)"
   ]
  },
  {
   "cell_type": "code",
   "execution_count": 6,
   "metadata": {},
   "outputs": [
    {
     "data": {
      "text/html": [
       "<div>\n",
       "<style scoped>\n",
       "    .dataframe tbody tr th:only-of-type {\n",
       "        vertical-align: middle;\n",
       "    }\n",
       "\n",
       "    .dataframe tbody tr th {\n",
       "        vertical-align: top;\n",
       "    }\n",
       "\n",
       "    .dataframe thead th {\n",
       "        text-align: right;\n",
       "    }\n",
       "</style>\n",
       "<table border=\"1\" class=\"dataframe\">\n",
       "  <thead>\n",
       "    <tr style=\"text-align: right;\">\n",
       "      <th></th>\n",
       "      <th>listing_forecast</th>\n",
       "      <th>sales_forecast</th>\n",
       "    </tr>\n",
       "  </thead>\n",
       "  <tbody>\n",
       "    <tr>\n",
       "      <th>0</th>\n",
       "      <td>0.002078</td>\n",
       "      <td>0.001070</td>\n",
       "    </tr>\n",
       "    <tr>\n",
       "      <th>1</th>\n",
       "      <td>0.001957</td>\n",
       "      <td>0.001035</td>\n",
       "    </tr>\n",
       "    <tr>\n",
       "      <th>2</th>\n",
       "      <td>0.002139</td>\n",
       "      <td>0.000952</td>\n",
       "    </tr>\n",
       "    <tr>\n",
       "      <th>3</th>\n",
       "      <td>0.001850</td>\n",
       "      <td>0.000916</td>\n",
       "    </tr>\n",
       "    <tr>\n",
       "      <th>4</th>\n",
       "      <td>0.001877</td>\n",
       "      <td>0.001020</td>\n",
       "    </tr>\n",
       "  </tbody>\n",
       "</table>\n",
       "</div>"
      ],
      "text/plain": [
       "   listing_forecast  sales_forecast\n",
       "0          0.002078        0.001070\n",
       "1          0.001957        0.001035\n",
       "2          0.002139        0.000952\n",
       "3          0.001850        0.000916\n",
       "4          0.001877        0.001020"
      ]
     },
     "execution_count": 6,
     "metadata": {},
     "output_type": "execute_result"
    }
   ],
   "source": [
    "df.head()"
   ]
  },
  {
   "cell_type": "code",
   "execution_count": 7,
   "metadata": {},
   "outputs": [
    {
     "data": {
      "text/plain": [
       "(200, 2)"
      ]
     },
     "execution_count": 7,
     "metadata": {},
     "output_type": "execute_result"
    }
   ],
   "source": [
    "df.shape"
   ]
  },
  {
   "cell_type": "code",
   "execution_count": null,
   "metadata": {},
   "outputs": [],
   "source": []
  }
 ],
 "metadata": {
  "kernelspec": {
   "display_name": "Python 3",
   "language": "python",
   "name": "python3"
  },
  "language_info": {
   "codemirror_mode": {
    "name": "ipython",
    "version": 3
   },
   "file_extension": ".py",
   "mimetype": "text/x-python",
   "name": "python",
   "nbconvert_exporter": "python",
   "pygments_lexer": "ipython3",
   "version": "3.7.3"
  }
 },
 "nbformat": 4,
 "nbformat_minor": 4
}
