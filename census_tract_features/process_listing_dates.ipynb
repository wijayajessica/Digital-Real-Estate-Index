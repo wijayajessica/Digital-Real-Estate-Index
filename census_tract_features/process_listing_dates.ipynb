{
 "cells": [
  {
   "cell_type": "code",
   "execution_count": 47,
   "metadata": {},
   "outputs": [],
   "source": [
    "import datetime\n",
    "import numpy as np\n",
    "import matplotlib.pyplot as plt\n",
    "import pandas as pd"
   ]
  },
  {
   "cell_type": "code",
   "execution_count": 48,
   "metadata": {},
   "outputs": [],
   "source": [
    "plt.rcParams.update({'font.size': 22})"
   ]
  },
  {
   "cell_type": "code",
   "execution_count": 49,
   "metadata": {},
   "outputs": [],
   "source": [
    "market_area = 'boston'"
   ]
  },
  {
   "cell_type": "code",
   "execution_count": 50,
   "metadata": {},
   "outputs": [],
   "source": [
    "listing_dates_df = pd.read_csv(f'{market_area}_listing_dates.csv')\n",
    "listing_dates_df['zipcode'] = listing_dates_df['zipcode'].astype(str)"
   ]
  },
  {
   "cell_type": "code",
   "execution_count": 51,
   "metadata": {},
   "outputs": [],
   "source": [
    "for event in 'list sale withdrawn expired cancelled'.split():\n",
    "    column = event + '_date'\n",
    "    listing_dates_df[column] = pd.to_datetime(listing_dates_df[column]).dt.date"
   ]
  },
  {
   "cell_type": "code",
   "execution_count": 52,
   "metadata": {},
   "outputs": [
    {
     "name": "stdout",
     "output_type": "stream",
     "text": [
      "(432685, 12)\n",
      "(432685, 12)\n"
     ]
    }
   ],
   "source": [
    "print(listing_dates_df.shape)\n",
    "listing_dates_df = listing_dates_df[\n",
    "    (listing_dates_df['list_date'] < datetime.date.today()) &\n",
    "    ((listing_dates_df['sale_date'] < datetime.date.today()) |\n",
    "     (listing_dates_df['sale_date'].isna()))]\n",
    "print(listing_dates_df.shape)"
   ]
  },
  {
   "cell_type": "code",
   "execution_count": 53,
   "metadata": {},
   "outputs": [
    {
     "data": {
      "text/html": [
       "<div>\n",
       "<style scoped>\n",
       "    .dataframe tbody tr th:only-of-type {\n",
       "        vertical-align: middle;\n",
       "    }\n",
       "\n",
       "    .dataframe tbody tr th {\n",
       "        vertical-align: top;\n",
       "    }\n",
       "\n",
       "    .dataframe thead th {\n",
       "        text-align: right;\n",
       "    }\n",
       "</style>\n",
       "<table border=\"1\" class=\"dataframe\">\n",
       "  <thead>\n",
       "    <tr style=\"text-align: right;\">\n",
       "      <th></th>\n",
       "      <th>property_id</th>\n",
       "      <th>zipcode</th>\n",
       "      <th>latitude</th>\n",
       "      <th>longitude</th>\n",
       "      <th>list_date</th>\n",
       "      <th>sale_date</th>\n",
       "      <th>withdrawn_date</th>\n",
       "      <th>expired_date</th>\n",
       "      <th>cancelled_date</th>\n",
       "      <th>current_status</th>\n",
       "      <th>list_price</th>\n",
       "      <th>sale_price</th>\n",
       "    </tr>\n",
       "  </thead>\n",
       "  <tbody>\n",
       "    <tr>\n",
       "      <th>0</th>\n",
       "      <td>504787545</td>\n",
       "      <td>2151</td>\n",
       "      <td>42.40187</td>\n",
       "      <td>-70.98765</td>\n",
       "      <td>2015-03-01</td>\n",
       "      <td>NaT</td>\n",
       "      <td>NaT</td>\n",
       "      <td>2015-10-01</td>\n",
       "      <td>NaT</td>\n",
       "      <td>Expired</td>\n",
       "      <td>599000.0</td>\n",
       "      <td>NaN</td>\n",
       "    </tr>\n",
       "    <tr>\n",
       "      <th>1</th>\n",
       "      <td>175039535</td>\n",
       "      <td>1702</td>\n",
       "      <td>42.27250</td>\n",
       "      <td>-71.44128</td>\n",
       "      <td>2015-03-01</td>\n",
       "      <td>2015-04-27</td>\n",
       "      <td>NaT</td>\n",
       "      <td>NaT</td>\n",
       "      <td>NaT</td>\n",
       "      <td>Sale</td>\n",
       "      <td>349900.0</td>\n",
       "      <td>349900.0</td>\n",
       "    </tr>\n",
       "    <tr>\n",
       "      <th>2</th>\n",
       "      <td>66951764</td>\n",
       "      <td>2445</td>\n",
       "      <td>42.33417</td>\n",
       "      <td>-71.13648</td>\n",
       "      <td>2015-03-07</td>\n",
       "      <td>2015-03-13</td>\n",
       "      <td>NaT</td>\n",
       "      <td>NaT</td>\n",
       "      <td>NaT</td>\n",
       "      <td>Sale</td>\n",
       "      <td>725000.0</td>\n",
       "      <td>745000.0</td>\n",
       "    </tr>\n",
       "    <tr>\n",
       "      <th>3</th>\n",
       "      <td>67506746</td>\n",
       "      <td>2536</td>\n",
       "      <td>41.55849</td>\n",
       "      <td>-70.58817</td>\n",
       "      <td>2015-03-09</td>\n",
       "      <td>2015-06-23</td>\n",
       "      <td>NaT</td>\n",
       "      <td>NaT</td>\n",
       "      <td>NaT</td>\n",
       "      <td>Sale</td>\n",
       "      <td>299000.0</td>\n",
       "      <td>299000.0</td>\n",
       "    </tr>\n",
       "    <tr>\n",
       "      <th>4</th>\n",
       "      <td>67096343</td>\n",
       "      <td>2052</td>\n",
       "      <td>42.20576</td>\n",
       "      <td>-71.32738</td>\n",
       "      <td>2015-03-11</td>\n",
       "      <td>2015-09-18</td>\n",
       "      <td>NaT</td>\n",
       "      <td>NaT</td>\n",
       "      <td>NaT</td>\n",
       "      <td>Sale</td>\n",
       "      <td>274900.0</td>\n",
       "      <td>274900.0</td>\n",
       "    </tr>\n",
       "  </tbody>\n",
       "</table>\n",
       "</div>"
      ],
      "text/plain": [
       "   property_id zipcode  latitude  longitude   list_date   sale_date  \\\n",
       "0    504787545    2151  42.40187  -70.98765  2015-03-01         NaT   \n",
       "1    175039535    1702  42.27250  -71.44128  2015-03-01  2015-04-27   \n",
       "2     66951764    2445  42.33417  -71.13648  2015-03-07  2015-03-13   \n",
       "3     67506746    2536  41.55849  -70.58817  2015-03-09  2015-06-23   \n",
       "4     67096343    2052  42.20576  -71.32738  2015-03-11  2015-09-18   \n",
       "\n",
       "  withdrawn_date expired_date cancelled_date current_status  list_price  \\\n",
       "0            NaT   2015-10-01            NaT        Expired    599000.0   \n",
       "1            NaT          NaT            NaT           Sale    349900.0   \n",
       "2            NaT          NaT            NaT           Sale    725000.0   \n",
       "3            NaT          NaT            NaT           Sale    299000.0   \n",
       "4            NaT          NaT            NaT           Sale    274900.0   \n",
       "\n",
       "   sale_price  \n",
       "0         NaN  \n",
       "1    349900.0  \n",
       "2    745000.0  \n",
       "3    299000.0  \n",
       "4    274900.0  "
      ]
     },
     "execution_count": 53,
     "metadata": {},
     "output_type": "execute_result"
    }
   ],
   "source": [
    "listing_dates_df.head()"
   ]
  },
  {
   "cell_type": "code",
   "execution_count": 54,
   "metadata": {},
   "outputs": [],
   "source": [
    "is_duplicated = listing_dates_df.duplicated('property_id', keep=False)\n",
    "listing_dates_df_duplicated = listing_dates_df[is_duplicated]\n",
    "listing_dates_df_duplicated = listing_dates_df_duplicated.sort_values('list_date')"
   ]
  },
  {
   "cell_type": "code",
   "execution_count": 55,
   "metadata": {},
   "outputs": [],
   "source": [
    "listing_dates_df_duplicated_grouped = listing_dates_df_duplicated.groupby('property_id')"
   ]
  },
  {
   "cell_type": "code",
   "execution_count": 56,
   "metadata": {},
   "outputs": [],
   "source": [
    "days_cutoff = 365\n",
    "cnt = 0\n",
    "days_later_lst = []\n",
    "rows_to_exclude = []\n",
    "for _, df in listing_dates_df_duplicated_grouped:\n",
    "    list_dates = list(df['list_date'])\n",
    "    days_later = np.array([(list_dates[i + 1] - list_dates[i]).days for i in range(len(list_dates) - 1)])\n",
    "    days_later_lst.extend(days_later)\n",
    "    exclude_row = days_later < days_cutoff\n",
    "    rows = df.index[1:]\n",
    "    rows_to_exclude.extend(rows[exclude_row])"
   ]
  },
  {
   "cell_type": "code",
   "execution_count": 57,
   "metadata": {},
   "outputs": [
    {
     "name": "stdout",
     "output_type": "stream",
     "text": [
      "432685\n",
      "419378\n"
     ]
    }
   ],
   "source": [
    "print(len(listing_dates_df))\n",
    "listing_dates_df_cleaned = listing_dates_df.drop(rows_to_exclude, axis=0)\n",
    "print(len(listing_dates_df_cleaned))"
   ]
  },
  {
   "cell_type": "code",
   "execution_count": 58,
   "metadata": {},
   "outputs": [
    {
     "name": "stdout",
     "output_type": "stream",
     "text": [
      "fraction of duplicate listings: 0.030754474964466066\n"
     ]
    }
   ],
   "source": [
    "print('fraction of duplicate listings:', \n",
    "      (len(listing_dates_df) - len(listing_dates_df_cleaned)) / len(listing_dates_df))"
   ]
  },
  {
   "cell_type": "code",
   "execution_count": 60,
   "metadata": {},
   "outputs": [
    {
     "data": {
      "image/png": "[encoded data removed]",
      "text/plain": [
       "<Figure size 1440x720 with 1 Axes>"
      ]
     },
     "metadata": {
      "needs_background": "light"
     },
     "output_type": "display_data"
    }
   ],
   "source": [
    "plt.figure(figsize=(20, 10))\n",
    "plt.hist(days_later_lst, bins=10, density=True)\n",
    "plt.xlabel('number of days between consecutive list dates')\n",
    "plt.ylabel('density')\n",
    "plt.axvline(x=days_cutoff, color='red', linestyle='--')\n",
    "plt.show()"
   ]
  },
  {
   "cell_type": "code",
   "execution_count": 61,
   "metadata": {},
   "outputs": [],
   "source": [
    "listing_dates_df_cleaned.to_csv(f'{market_area}_listing_dates_cleaned.csv', index=False)"
   ]
  },
  {
   "cell_type": "code",
   "execution_count": null,
   "metadata": {},
   "outputs": [],
   "source": []
  }
 ],
 "metadata": {
  "kernelspec": {
   "display_name": "Python 3",
   "language": "python",
   "name": "python3"
  },
  "language_info": {
   "codemirror_mode": {
    "name": "ipython",
    "version": 3
   },
   "file_extension": ".py",
   "mimetype": "text/x-python",
   "name": "python",
   "nbconvert_exporter": "python",
   "pygments_lexer": "ipython3",
   "version": "3.8.6"
  }
 },
 "nbformat": 4,
 "nbformat_minor": 2
}
