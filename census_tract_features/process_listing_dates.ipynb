{
 "cells": [
  {
   "cell_type": "code",
   "execution_count": 17,
   "metadata": {},
   "outputs": [],
   "source": [
    "import datetime\n",
    "import numpy as np\n",
    "import matplotlib.pyplot as plt\n",
    "import pandas as pd"
   ]
  },
  {
   "cell_type": "code",
   "execution_count": 18,
   "metadata": {},
   "outputs": [],
   "source": [
    "plt.rcParams.update({'font.size': 22})"
   ]
  },
  {
   "cell_type": "code",
   "execution_count": 34,
   "metadata": {},
   "outputs": [],
   "source": [
    "market_area = 'denver'"
   ]
  },
  {
   "cell_type": "code",
   "execution_count": 35,
   "metadata": {},
   "outputs": [],
   "source": [
    "listing_dates_df = pd.read_csv(f'{market_area}_listing_dates.csv')\n",
    "listing_dates_df['zipcode'] = listing_dates_df['zipcode'].astype(str)"
   ]
  },
  {
   "cell_type": "code",
   "execution_count": 36,
   "metadata": {},
   "outputs": [],
   "source": [
    "for event in 'list sale withdrawn expired cancelled'.split():\n",
    "    column = event + '_date'\n",
    "    listing_dates_df[column] = pd.to_datetime(listing_dates_df[column]).dt.date"
   ]
  },
  {
   "cell_type": "code",
   "execution_count": 37,
   "metadata": {},
   "outputs": [
    {
     "name": "stdout",
     "output_type": "stream",
     "text": [
      "(454252, 11)\n",
      "(454251, 11)\n"
     ]
    }
   ],
   "source": [
    "print(listing_dates_df.shape)\n",
    "listing_dates_df = listing_dates_df[\n",
    "    (listing_dates_df['list_date'] < datetime.date.today()) &\n",
    "    ((listing_dates_df['sale_date'] < datetime.date.today()) |\n",
    "     (listing_dates_df['sale_date'].isna()))]\n",
    "print(listing_dates_df.shape)"
   ]
  },
  {
   "cell_type": "code",
   "execution_count": 38,
   "metadata": {},
   "outputs": [
    {
     "data": {
      "text/html": [
       "<div>\n",
       "<style scoped>\n",
       "    .dataframe tbody tr th:only-of-type {\n",
       "        vertical-align: middle;\n",
       "    }\n",
       "\n",
       "    .dataframe tbody tr th {\n",
       "        vertical-align: top;\n",
       "    }\n",
       "\n",
       "    .dataframe thead th {\n",
       "        text-align: right;\n",
       "    }\n",
       "</style>\n",
       "<table border=\"1\" class=\"dataframe\">\n",
       "  <thead>\n",
       "    <tr style=\"text-align: right;\">\n",
       "      <th></th>\n",
       "      <th>property_id</th>\n",
       "      <th>zipcode</th>\n",
       "      <th>latitude</th>\n",
       "      <th>longitude</th>\n",
       "      <th>list_date</th>\n",
       "      <th>sale_date</th>\n",
       "      <th>withdrawn_date</th>\n",
       "      <th>expired_date</th>\n",
       "      <th>cancelled_date</th>\n",
       "      <th>current_status</th>\n",
       "      <th>sale_price</th>\n",
       "    </tr>\n",
       "  </thead>\n",
       "  <tbody>\n",
       "    <tr>\n",
       "      <th>0</th>\n",
       "      <td>666680976</td>\n",
       "      <td>80113</td>\n",
       "      <td>39.65232</td>\n",
       "      <td>-104.97613</td>\n",
       "      <td>2016-03-01</td>\n",
       "      <td>NaT</td>\n",
       "      <td>NaT</td>\n",
       "      <td>2016-03-01</td>\n",
       "      <td>NaT</td>\n",
       "      <td>Expired</td>\n",
       "      <td>NaN</td>\n",
       "    </tr>\n",
       "    <tr>\n",
       "      <th>1</th>\n",
       "      <td>138826052</td>\n",
       "      <td>80123</td>\n",
       "      <td>39.62523</td>\n",
       "      <td>-105.08648</td>\n",
       "      <td>2016-03-01</td>\n",
       "      <td>NaT</td>\n",
       "      <td>NaT</td>\n",
       "      <td>2016-03-01</td>\n",
       "      <td>NaT</td>\n",
       "      <td>Expired</td>\n",
       "      <td>NaN</td>\n",
       "    </tr>\n",
       "    <tr>\n",
       "      <th>2</th>\n",
       "      <td>666683709</td>\n",
       "      <td>80204</td>\n",
       "      <td>39.74122</td>\n",
       "      <td>-105.05241</td>\n",
       "      <td>2016-03-01</td>\n",
       "      <td>NaT</td>\n",
       "      <td>NaT</td>\n",
       "      <td>2016-03-01</td>\n",
       "      <td>NaT</td>\n",
       "      <td>Expired</td>\n",
       "      <td>NaN</td>\n",
       "    </tr>\n",
       "    <tr>\n",
       "      <th>3</th>\n",
       "      <td>137981678</td>\n",
       "      <td>80241</td>\n",
       "      <td>39.91465</td>\n",
       "      <td>-104.93076</td>\n",
       "      <td>2016-03-01</td>\n",
       "      <td>2016-04-21</td>\n",
       "      <td>NaT</td>\n",
       "      <td>NaT</td>\n",
       "      <td>NaT</td>\n",
       "      <td>Sale</td>\n",
       "      <td>320000.0</td>\n",
       "    </tr>\n",
       "    <tr>\n",
       "      <th>4</th>\n",
       "      <td>410875086</td>\n",
       "      <td>80202</td>\n",
       "      <td>39.74783</td>\n",
       "      <td>-104.98640</td>\n",
       "      <td>2016-03-01</td>\n",
       "      <td>2016-05-02</td>\n",
       "      <td>NaT</td>\n",
       "      <td>NaT</td>\n",
       "      <td>NaT</td>\n",
       "      <td>Sale</td>\n",
       "      <td>475000.0</td>\n",
       "    </tr>\n",
       "  </tbody>\n",
       "</table>\n",
       "</div>"
      ],
      "text/plain": [
       "   property_id zipcode  latitude  longitude   list_date   sale_date  \\\n",
       "0    666680976   80113  39.65232 -104.97613  2016-03-01         NaT   \n",
       "1    138826052   80123  39.62523 -105.08648  2016-03-01         NaT   \n",
       "2    666683709   80204  39.74122 -105.05241  2016-03-01         NaT   \n",
       "3    137981678   80241  39.91465 -104.93076  2016-03-01  2016-04-21   \n",
       "4    410875086   80202  39.74783 -104.98640  2016-03-01  2016-05-02   \n",
       "\n",
       "  withdrawn_date expired_date cancelled_date current_status  sale_price  \n",
       "0            NaT   2016-03-01            NaT        Expired         NaN  \n",
       "1            NaT   2016-03-01            NaT        Expired         NaN  \n",
       "2            NaT   2016-03-01            NaT        Expired         NaN  \n",
       "3            NaT          NaT            NaT           Sale    320000.0  \n",
       "4            NaT          NaT            NaT           Sale    475000.0  "
      ]
     },
     "execution_count": 38,
     "metadata": {},
     "output_type": "execute_result"
    }
   ],
   "source": [
    "listing_dates_df.head()"
   ]
  },
  {
   "cell_type": "code",
   "execution_count": 39,
   "metadata": {},
   "outputs": [],
   "source": [
    "is_duplicated = listing_dates_df.duplicated('property_id', keep=False)\n",
    "listing_dates_df_duplicated = listing_dates_df[is_duplicated]\n",
    "listing_dates_df_duplicated = listing_dates_df_duplicated.sort_values('list_date')"
   ]
  },
  {
   "cell_type": "code",
   "execution_count": 40,
   "metadata": {},
   "outputs": [],
   "source": [
    "listing_dates_df_duplicated_grouped = listing_dates_df_duplicated.groupby('property_id')"
   ]
  },
  {
   "cell_type": "code",
   "execution_count": 41,
   "metadata": {},
   "outputs": [],
   "source": [
    "days_cutoff = 365\n",
    "cnt = 0\n",
    "days_later_lst = []\n",
    "rows_to_exclude = []\n",
    "for _, df in listing_dates_df_duplicated_grouped:\n",
    "    list_dates = list(df['list_date'])\n",
    "    days_later = np.array([(list_dates[i + 1] - list_dates[i]).days for i in range(len(list_dates) - 1)])\n",
    "    days_later_lst.extend(days_later)\n",
    "    exclude_row = days_later < days_cutoff\n",
    "    rows = df.index[1:]\n",
    "    rows_to_exclude.extend(rows[exclude_row])"
   ]
  },
  {
   "cell_type": "code",
   "execution_count": 42,
   "metadata": {},
   "outputs": [
    {
     "name": "stdout",
     "output_type": "stream",
     "text": [
      "454251\n",
      "440301\n"
     ]
    }
   ],
   "source": [
    "print(len(listing_dates_df))\n",
    "listing_dates_df_cleaned = listing_dates_df.drop(rows_to_exclude, axis=0)\n",
    "print(len(listing_dates_df_cleaned))"
   ]
  },
  {
   "cell_type": "code",
   "execution_count": 45,
   "metadata": {},
   "outputs": [
    {
     "name": "stdout",
     "output_type": "stream",
     "text": [
      "fraction of duplicate listings: 0.030709893869248498\n"
     ]
    }
   ],
   "source": [
    "print('fraction of duplicate listings:', \n",
    "      (len(listing_dates_df) - len(listing_dates_df_cleaned)) / len(listing_dates_df))"
   ]
  },
  {
   "cell_type": "code",
   "execution_count": 43,
   "metadata": {},
   "outputs": [
    {
     "data": {
      "image/png": "[encoded data removed]",
      "text/plain": [
       "<Figure size 1440x720 with 1 Axes>"
      ]
     },
     "metadata": {
      "needs_background": "light"
     },
     "output_type": "display_data"
    }
   ],
   "source": [
    "plt.figure(figsize=(20, 10))\n",
    "plt.hist(days_later_lst, bins=10, density=True)\n",
    "plt.xlabel('number of days between consecutive list dates')\n",
    "plt.ylabel('density')\n",
    "plt.axvline(x=days_cutoff, color='red', linestyle='--')\n",
    "plt.show()"
   ]
  },
  {
   "cell_type": "code",
   "execution_count": 46,
   "metadata": {},
   "outputs": [],
   "source": [
    "listing_dates_df_cleaned.to_csv(f'{market_area}_listing_dates_cleaned.csv', index=False)"
   ]
  },
  {
   "cell_type": "code",
   "execution_count": null,
   "metadata": {},
   "outputs": [],
   "source": []
  }
 ],
 "metadata": {
  "kernelspec": {
   "display_name": "Python 3",
   "language": "python",
   "name": "python3"
  },
  "language_info": {
   "codemirror_mode": {
    "name": "ipython",
    "version": 3
   },
   "file_extension": ".py",
   "mimetype": "text/x-python",
   "name": "python",
   "nbconvert_exporter": "python",
   "pygments_lexer": "ipython3",
   "version": "3.8.6"
  }
 },
 "nbformat": 4,
 "nbformat_minor": 2
}
